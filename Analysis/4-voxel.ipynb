{
 "cells": [
  {
   "cell_type": "code",
   "execution_count": null,
   "id": "5b290a92-04a7-470b-9d74-9691064a1b58",
   "metadata": {},
   "outputs": [],
   "source": []
  },
  {
   "cell_type": "code",
   "execution_count": null,
   "id": "124bf089-004b-435a-8fa2-1a85e7fb42d7",
   "metadata": {},
   "outputs": [],
   "source": [
    "import os\n",
    "import numpy as np\n",
    "import matplotlib.pyplot as plt\n",
    "from mpl_toolkits.mplot3d import Axes3D\n",
    "from skimage import io\n",
    "\n",
    "def load_images_from_folder(folder):\n",
    "    images = []\n",
    "    for filename in sorted(os.listdir(folder)):\n",
    "        if filename.endswith(\".png\") or filename.endswith(\".jpg\"):\n",
    "            img = io.imread(os.path.join(folder, filename), as_gray=True)\n",
    "            if img is not None:\n",
    "                images.append(img)\n",
    "    return np.array(images)\n",
    "\n",
    "def plot_3d(images):\n",
    "    fig = plt.figure()\n",
    "    ax = fig.add_subplot(111, projection='3d')\n",
    "    \n",
    "    # Define the voxel data\n",
    "    x, y, z = np.indices(images.shape)\n",
    "    voxels = images > 0.5\n",
    "    \n",
    "    ax.voxels(voxels, facecolors='blue', edgecolor='k')\n",
    "    plt.show()\n",
    "\n",
    "\n",
    "if __name__ == \"__main__\":\n",
    "    folder = \"otsu-extracted\"\n",
    "    images = load_images_from_folder(folder)\n",
    "    plot_3d(images)\n"
   ]
  },
  {
   "cell_type": "code",
   "execution_count": null,
   "id": "a0794364-c89e-4abd-b751-2b2811c03f5c",
   "metadata": {},
   "outputs": [],
   "source": []
  }
 ],
 "metadata": {
  "kernelspec": {
   "display_name": "Python 3 (ipykernel)",
   "language": "python",
   "name": "python3"
  },
  "language_info": {
   "codemirror_mode": {
    "name": "ipython",
    "version": 3
   },
   "file_extension": ".py",
   "mimetype": "text/x-python",
   "name": "python",
   "nbconvert_exporter": "python",
   "pygments_lexer": "ipython3",
   "version": "3.10.9"
  }
 },
 "nbformat": 4,
 "nbformat_minor": 5
}
