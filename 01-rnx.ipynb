{
  "nbformat": 4,
  "nbformat_minor": 0,
  "metadata": {
    "colab": {
      "name": "Untitled23.ipynb",
      "provenance": [],
      "authorship_tag": "ABX9TyNWTpjBQ3ZCMCNUmlMpZMtA",
      "include_colab_link": true
    },
    "kernelspec": {
      "name": "python3",
      "display_name": "Python 3"
    },
    "language_info": {
      "name": "python"
    }
  },
  "cells": [
    {
      "cell_type": "markdown",
      "metadata": {
        "id": "view-in-github",
        "colab_type": "text"
      },
      "source": [
        "<a href=\"https://colab.research.google.com/github/JSJeong-me/RNX/blob/main/01-rnx.ipynb\" target=\"_parent\"><img src=\"https://colab.research.google.com/assets/colab-badge.svg\" alt=\"Open In Colab\"/></a>"
      ]
    },
    {
      "cell_type": "code",
      "execution_count": null,
      "metadata": {
        "id": "aSmWR8ybRJ2W"
      },
      "outputs": [],
      "source": [
        "import pandas as pd"
      ]
    },
    {
      "cell_type": "code",
      "source": [
        "data = pd.read_csv('20220705101638.csv', skiprows=4, header=0 )"
      ],
      "metadata": {
        "id": "tTy6t04-Re6P"
      },
      "execution_count": null,
      "outputs": []
    },
    {
      "cell_type": "code",
      "source": [
        "data.columns"
      ],
      "metadata": {
        "colab": {
          "base_uri": "https://localhost:8080/"
        },
        "id": "jCrXi37uSGld",
        "outputId": "01f1d898-4216-426e-9f86-8af87d075f69"
      },
      "execution_count": null,
      "outputs": [
        {
          "output_type": "execute_result",
          "data": {
            "text/plain": [
              "Index([';;;Borders;Borders;Borders;Borders;Borders;Borders;Borders;Borders;Hatching;Hatching;Hatching;Hatching;Hatching;Hatching;Hatching;Hatching;Blocked paths;Blocked paths;Blocked paths;Blocked paths;Blocked paths;Blocked paths;Blocked paths;Blocked paths;Support;Support;Support;Support;Support;Support;Support;Support;Uncategorized;Uncategorized;Contours;Contours;Jumps;Jumps'], dtype='object')"
            ]
          },
          "metadata": {},
          "execution_count": 3
        }
      ]
    },
    {
      "cell_type": "code",
      "source": [
        "len(data.columns)"
      ],
      "metadata": {
        "colab": {
          "base_uri": "https://localhost:8080/"
        },
        "id": "6UObcBDDTIj8",
        "outputId": "10a3e38d-fd5c-4aff-9beb-51775eb94019"
      },
      "execution_count": null,
      "outputs": [
        {
          "output_type": "execute_result",
          "data": {
            "text/plain": [
              "1"
            ]
          },
          "metadata": {},
          "execution_count": 4
        }
      ]
    },
    {
      "cell_type": "code",
      "source": [
        "data.head()"
      ],
      "metadata": {
        "id": "xpyUUKTnJdYB",
        "outputId": "94c8713c-0b4b-474a-c467-e902d97a71d7",
        "colab": {
          "base_uri": "https://localhost:8080/",
          "height": 305
        }
      },
      "execution_count": null,
      "outputs": [
        {
          "output_type": "execute_result",
          "data": {
            "text/plain": [
              "  ;;;Borders;Borders;Borders;Borders;Borders;Borders;Borders;Borders;Hatching;Hatching;Hatching;Hatching;Hatching;Hatching;Hatching;Hatching;Blocked paths;Blocked paths;Blocked paths;Blocked paths;Blocked paths;Blocked paths;Blocked paths;Blocked paths;Support;Support;Support;Support;Support;Support;Support;Support;Uncategorized;Uncategorized;Contours;Contours;Jumps;Jumps\n",
              "0  ;;;Total;Total;Border;Border;Downskin border;D...                                                                                                                                                                                                                                                                                                                                  \n",
              "1  Slice;z height (mm);Overall scan time (s);Numb...                                                                                                                                                                                                                                                                                                                                  \n",
              "2  1;0.0000;0.0000;1360;1114.0369;1360;1114.0369;...                                                                                                                                                                                                                                                                                                                                  \n",
              "3  2;0.0300;0.0000;1360;1114.0389;1360;1114.0389;...                                                                                                                                                                                                                                                                                                                                  \n",
              "4  3;0.0600;0.0000;1620;1114.0400;1620;1114.0400;...                                                                                                                                                                                                                                                                                                                                  "
            ],
            "text/html": [
              "\n",
              "  <div id=\"df-4522a74e-269c-4b49-96d8-4b75f1d6ac1c\">\n",
              "    <div class=\"colab-df-container\">\n",
              "      <div>\n",
              "<style scoped>\n",
              "    .dataframe tbody tr th:only-of-type {\n",
              "        vertical-align: middle;\n",
              "    }\n",
              "\n",
              "    .dataframe tbody tr th {\n",
              "        vertical-align: top;\n",
              "    }\n",
              "\n",
              "    .dataframe thead th {\n",
              "        text-align: right;\n",
              "    }\n",
              "</style>\n",
              "<table border=\"1\" class=\"dataframe\">\n",
              "  <thead>\n",
              "    <tr style=\"text-align: right;\">\n",
              "      <th></th>\n",
              "      <th>;;;Borders;Borders;Borders;Borders;Borders;Borders;Borders;Borders;Hatching;Hatching;Hatching;Hatching;Hatching;Hatching;Hatching;Hatching;Blocked paths;Blocked paths;Blocked paths;Blocked paths;Blocked paths;Blocked paths;Blocked paths;Blocked paths;Support;Support;Support;Support;Support;Support;Support;Support;Uncategorized;Uncategorized;Contours;Contours;Jumps;Jumps</th>\n",
              "    </tr>\n",
              "  </thead>\n",
              "  <tbody>\n",
              "    <tr>\n",
              "      <th>0</th>\n",
              "      <td>;;;Total;Total;Border;Border;Downskin border;D...</td>\n",
              "    </tr>\n",
              "    <tr>\n",
              "      <th>1</th>\n",
              "      <td>Slice;z height (mm);Overall scan time (s);Numb...</td>\n",
              "    </tr>\n",
              "    <tr>\n",
              "      <th>2</th>\n",
              "      <td>1;0.0000;0.0000;1360;1114.0369;1360;1114.0369;...</td>\n",
              "    </tr>\n",
              "    <tr>\n",
              "      <th>3</th>\n",
              "      <td>2;0.0300;0.0000;1360;1114.0389;1360;1114.0389;...</td>\n",
              "    </tr>\n",
              "    <tr>\n",
              "      <th>4</th>\n",
              "      <td>3;0.0600;0.0000;1620;1114.0400;1620;1114.0400;...</td>\n",
              "    </tr>\n",
              "  </tbody>\n",
              "</table>\n",
              "</div>\n",
              "      <button class=\"colab-df-convert\" onclick=\"convertToInteractive('df-4522a74e-269c-4b49-96d8-4b75f1d6ac1c')\"\n",
              "              title=\"Convert this dataframe to an interactive table.\"\n",
              "              style=\"display:none;\">\n",
              "        \n",
              "  <svg xmlns=\"http://www.w3.org/2000/svg\" height=\"24px\"viewBox=\"0 0 24 24\"\n",
              "       width=\"24px\">\n",
              "    <path d=\"M0 0h24v24H0V0z\" fill=\"none\"/>\n",
              "    <path d=\"M18.56 5.44l.94 2.06.94-2.06 2.06-.94-2.06-.94-.94-2.06-.94 2.06-2.06.94zm-11 1L8.5 8.5l.94-2.06 2.06-.94-2.06-.94L8.5 2.5l-.94 2.06-2.06.94zm10 10l.94 2.06.94-2.06 2.06-.94-2.06-.94-.94-2.06-.94 2.06-2.06.94z\"/><path d=\"M17.41 7.96l-1.37-1.37c-.4-.4-.92-.59-1.43-.59-.52 0-1.04.2-1.43.59L10.3 9.45l-7.72 7.72c-.78.78-.78 2.05 0 2.83L4 21.41c.39.39.9.59 1.41.59.51 0 1.02-.2 1.41-.59l7.78-7.78 2.81-2.81c.8-.78.8-2.07 0-2.86zM5.41 20L4 18.59l7.72-7.72 1.47 1.35L5.41 20z\"/>\n",
              "  </svg>\n",
              "      </button>\n",
              "      \n",
              "  <style>\n",
              "    .colab-df-container {\n",
              "      display:flex;\n",
              "      flex-wrap:wrap;\n",
              "      gap: 12px;\n",
              "    }\n",
              "\n",
              "    .colab-df-convert {\n",
              "      background-color: #E8F0FE;\n",
              "      border: none;\n",
              "      border-radius: 50%;\n",
              "      cursor: pointer;\n",
              "      display: none;\n",
              "      fill: #1967D2;\n",
              "      height: 32px;\n",
              "      padding: 0 0 0 0;\n",
              "      width: 32px;\n",
              "    }\n",
              "\n",
              "    .colab-df-convert:hover {\n",
              "      background-color: #E2EBFA;\n",
              "      box-shadow: 0px 1px 2px rgba(60, 64, 67, 0.3), 0px 1px 3px 1px rgba(60, 64, 67, 0.15);\n",
              "      fill: #174EA6;\n",
              "    }\n",
              "\n",
              "    [theme=dark] .colab-df-convert {\n",
              "      background-color: #3B4455;\n",
              "      fill: #D2E3FC;\n",
              "    }\n",
              "\n",
              "    [theme=dark] .colab-df-convert:hover {\n",
              "      background-color: #434B5C;\n",
              "      box-shadow: 0px 1px 3px 1px rgba(0, 0, 0, 0.15);\n",
              "      filter: drop-shadow(0px 1px 2px rgba(0, 0, 0, 0.3));\n",
              "      fill: #FFFFFF;\n",
              "    }\n",
              "  </style>\n",
              "\n",
              "      <script>\n",
              "        const buttonEl =\n",
              "          document.querySelector('#df-4522a74e-269c-4b49-96d8-4b75f1d6ac1c button.colab-df-convert');\n",
              "        buttonEl.style.display =\n",
              "          google.colab.kernel.accessAllowed ? 'block' : 'none';\n",
              "\n",
              "        async function convertToInteractive(key) {\n",
              "          const element = document.querySelector('#df-4522a74e-269c-4b49-96d8-4b75f1d6ac1c');\n",
              "          const dataTable =\n",
              "            await google.colab.kernel.invokeFunction('convertToInteractive',\n",
              "                                                     [key], {});\n",
              "          if (!dataTable) return;\n",
              "\n",
              "          const docLinkHtml = 'Like what you see? Visit the ' +\n",
              "            '<a target=\"_blank\" href=https://colab.research.google.com/notebooks/data_table.ipynb>data table notebook</a>'\n",
              "            + ' to learn more about interactive tables.';\n",
              "          element.innerHTML = '';\n",
              "          dataTable['output_type'] = 'display_data';\n",
              "          await google.colab.output.renderOutput(dataTable, element);\n",
              "          const docLink = document.createElement('div');\n",
              "          docLink.innerHTML = docLinkHtml;\n",
              "          element.appendChild(docLink);\n",
              "        }\n",
              "      </script>\n",
              "    </div>\n",
              "  </div>\n",
              "  "
            ]
          },
          "metadata": {},
          "execution_count": 5
        }
      ]
    },
    {
      "cell_type": "code",
      "source": [
        "data.tail()"
      ],
      "metadata": {
        "id": "29at3YcDJ75e",
        "outputId": "30a15a01-6b71-48ac-8d5d-c63fc85c8e31",
        "colab": {
          "base_uri": "https://localhost:8080/",
          "height": 305
        }
      },
      "execution_count": null,
      "outputs": [
        {
          "output_type": "execute_result",
          "data": {
            "text/plain": [
              "    ;;;Borders;Borders;Borders;Borders;Borders;Borders;Borders;Borders;Hatching;Hatching;Hatching;Hatching;Hatching;Hatching;Hatching;Hatching;Blocked paths;Blocked paths;Blocked paths;Blocked paths;Blocked paths;Blocked paths;Blocked paths;Blocked paths;Support;Support;Support;Support;Support;Support;Support;Support;Uncategorized;Uncategorized;Contours;Contours;Jumps;Jumps\n",
              "214  213;6.3600;0.0000;160114;8162.2316;160114;8162...                                                                                                                                                                                                                                                                                                                                  \n",
              "215  214;6.3900;0.0000;153350;7681.7003;153350;7681...                                                                                                                                                                                                                                                                                                                                  \n",
              "216  215;6.4200;0.0000;149856;7239.9234;149856;7239...                                                                                                                                                                                                                                                                                                                                  \n",
              "217  216;6.4500;0.0000;146302;6641.4256;146302;6641...                                                                                                                                                                                                                                                                                                                                  \n",
              "218  217;6.4800;0.0000;18484;1105.9391;18484;1105.9...                                                                                                                                                                                                                                                                                                                                  "
            ],
            "text/html": [
              "\n",
              "  <div id=\"df-c544c4c2-cbb2-4111-b61c-13cfc9eb5f15\">\n",
              "    <div class=\"colab-df-container\">\n",
              "      <div>\n",
              "<style scoped>\n",
              "    .dataframe tbody tr th:only-of-type {\n",
              "        vertical-align: middle;\n",
              "    }\n",
              "\n",
              "    .dataframe tbody tr th {\n",
              "        vertical-align: top;\n",
              "    }\n",
              "\n",
              "    .dataframe thead th {\n",
              "        text-align: right;\n",
              "    }\n",
              "</style>\n",
              "<table border=\"1\" class=\"dataframe\">\n",
              "  <thead>\n",
              "    <tr style=\"text-align: right;\">\n",
              "      <th></th>\n",
              "      <th>;;;Borders;Borders;Borders;Borders;Borders;Borders;Borders;Borders;Hatching;Hatching;Hatching;Hatching;Hatching;Hatching;Hatching;Hatching;Blocked paths;Blocked paths;Blocked paths;Blocked paths;Blocked paths;Blocked paths;Blocked paths;Blocked paths;Support;Support;Support;Support;Support;Support;Support;Support;Uncategorized;Uncategorized;Contours;Contours;Jumps;Jumps</th>\n",
              "    </tr>\n",
              "  </thead>\n",
              "  <tbody>\n",
              "    <tr>\n",
              "      <th>214</th>\n",
              "      <td>213;6.3600;0.0000;160114;8162.2316;160114;8162...</td>\n",
              "    </tr>\n",
              "    <tr>\n",
              "      <th>215</th>\n",
              "      <td>214;6.3900;0.0000;153350;7681.7003;153350;7681...</td>\n",
              "    </tr>\n",
              "    <tr>\n",
              "      <th>216</th>\n",
              "      <td>215;6.4200;0.0000;149856;7239.9234;149856;7239...</td>\n",
              "    </tr>\n",
              "    <tr>\n",
              "      <th>217</th>\n",
              "      <td>216;6.4500;0.0000;146302;6641.4256;146302;6641...</td>\n",
              "    </tr>\n",
              "    <tr>\n",
              "      <th>218</th>\n",
              "      <td>217;6.4800;0.0000;18484;1105.9391;18484;1105.9...</td>\n",
              "    </tr>\n",
              "  </tbody>\n",
              "</table>\n",
              "</div>\n",
              "      <button class=\"colab-df-convert\" onclick=\"convertToInteractive('df-c544c4c2-cbb2-4111-b61c-13cfc9eb5f15')\"\n",
              "              title=\"Convert this dataframe to an interactive table.\"\n",
              "              style=\"display:none;\">\n",
              "        \n",
              "  <svg xmlns=\"http://www.w3.org/2000/svg\" height=\"24px\"viewBox=\"0 0 24 24\"\n",
              "       width=\"24px\">\n",
              "    <path d=\"M0 0h24v24H0V0z\" fill=\"none\"/>\n",
              "    <path d=\"M18.56 5.44l.94 2.06.94-2.06 2.06-.94-2.06-.94-.94-2.06-.94 2.06-2.06.94zm-11 1L8.5 8.5l.94-2.06 2.06-.94-2.06-.94L8.5 2.5l-.94 2.06-2.06.94zm10 10l.94 2.06.94-2.06 2.06-.94-2.06-.94-.94-2.06-.94 2.06-2.06.94z\"/><path d=\"M17.41 7.96l-1.37-1.37c-.4-.4-.92-.59-1.43-.59-.52 0-1.04.2-1.43.59L10.3 9.45l-7.72 7.72c-.78.78-.78 2.05 0 2.83L4 21.41c.39.39.9.59 1.41.59.51 0 1.02-.2 1.41-.59l7.78-7.78 2.81-2.81c.8-.78.8-2.07 0-2.86zM5.41 20L4 18.59l7.72-7.72 1.47 1.35L5.41 20z\"/>\n",
              "  </svg>\n",
              "      </button>\n",
              "      \n",
              "  <style>\n",
              "    .colab-df-container {\n",
              "      display:flex;\n",
              "      flex-wrap:wrap;\n",
              "      gap: 12px;\n",
              "    }\n",
              "\n",
              "    .colab-df-convert {\n",
              "      background-color: #E8F0FE;\n",
              "      border: none;\n",
              "      border-radius: 50%;\n",
              "      cursor: pointer;\n",
              "      display: none;\n",
              "      fill: #1967D2;\n",
              "      height: 32px;\n",
              "      padding: 0 0 0 0;\n",
              "      width: 32px;\n",
              "    }\n",
              "\n",
              "    .colab-df-convert:hover {\n",
              "      background-color: #E2EBFA;\n",
              "      box-shadow: 0px 1px 2px rgba(60, 64, 67, 0.3), 0px 1px 3px 1px rgba(60, 64, 67, 0.15);\n",
              "      fill: #174EA6;\n",
              "    }\n",
              "\n",
              "    [theme=dark] .colab-df-convert {\n",
              "      background-color: #3B4455;\n",
              "      fill: #D2E3FC;\n",
              "    }\n",
              "\n",
              "    [theme=dark] .colab-df-convert:hover {\n",
              "      background-color: #434B5C;\n",
              "      box-shadow: 0px 1px 3px 1px rgba(0, 0, 0, 0.15);\n",
              "      filter: drop-shadow(0px 1px 2px rgba(0, 0, 0, 0.3));\n",
              "      fill: #FFFFFF;\n",
              "    }\n",
              "  </style>\n",
              "\n",
              "      <script>\n",
              "        const buttonEl =\n",
              "          document.querySelector('#df-c544c4c2-cbb2-4111-b61c-13cfc9eb5f15 button.colab-df-convert');\n",
              "        buttonEl.style.display =\n",
              "          google.colab.kernel.accessAllowed ? 'block' : 'none';\n",
              "\n",
              "        async function convertToInteractive(key) {\n",
              "          const element = document.querySelector('#df-c544c4c2-cbb2-4111-b61c-13cfc9eb5f15');\n",
              "          const dataTable =\n",
              "            await google.colab.kernel.invokeFunction('convertToInteractive',\n",
              "                                                     [key], {});\n",
              "          if (!dataTable) return;\n",
              "\n",
              "          const docLinkHtml = 'Like what you see? Visit the ' +\n",
              "            '<a target=\"_blank\" href=https://colab.research.google.com/notebooks/data_table.ipynb>data table notebook</a>'\n",
              "            + ' to learn more about interactive tables.';\n",
              "          element.innerHTML = '';\n",
              "          dataTable['output_type'] = 'display_data';\n",
              "          await google.colab.output.renderOutput(dataTable, element);\n",
              "          const docLink = document.createElement('div');\n",
              "          docLink.innerHTML = docLinkHtml;\n",
              "          element.appendChild(docLink);\n",
              "        }\n",
              "      </script>\n",
              "    </div>\n",
              "  </div>\n",
              "  "
            ]
          },
          "metadata": {},
          "execution_count": 6
        }
      ]
    },
    {
      "cell_type": "code",
      "source": [
        "df_data = data.iloc[2].str.split(';', expand=True)"
      ],
      "metadata": {
        "id": "PI_aLM5OJkSY"
      },
      "execution_count": null,
      "outputs": []
    },
    {
      "cell_type": "code",
      "source": [
        "df_data"
      ],
      "metadata": {
        "id": "NQYqRpGVKLtm",
        "outputId": "27431b30-60a7-440a-b936-078519d27710",
        "colab": {
          "base_uri": "https://localhost:8080/",
          "height": 209
        }
      },
      "execution_count": null,
      "outputs": [
        {
          "output_type": "execute_result",
          "data": {
            "text/plain": [
              "                                                   0       1       2     3   \\\n",
              ";;;Borders;Borders;Borders;Borders;Borders;Bord...  1  0.0000  0.0000  1360   \n",
              "\n",
              "                                                           4     5   \\\n",
              ";;;Borders;Borders;Borders;Borders;Borders;Bord...  1114.0369  1360   \n",
              "\n",
              "                                                           6  7       8  9   \\\n",
              ";;;Borders;Borders;Borders;Borders;Borders;Bord...  1114.0369  0  0.0000  0   \n",
              "\n",
              "                                                    ... 31      32 33      34  \\\n",
              ";;;Borders;Borders;Borders;Borders;Borders;Bord...  ...  0  0.0000  0  0.0000   \n",
              "\n",
              "                                                   35      36 37      38  \\\n",
              ";;;Borders;Borders;Borders;Borders;Borders;Bord...  0  0.0000  0  0.0000   \n",
              "\n",
              "                                                      39         40  \n",
              ";;;Borders;Borders;Borders;Borders;Borders;Bord...  4243  1439.3040  \n",
              "\n",
              "[1 rows x 41 columns]"
            ],
            "text/html": [
              "\n",
              "  <div id=\"df-49743824-0125-4f54-9b17-47264d789325\">\n",
              "    <div class=\"colab-df-container\">\n",
              "      <div>\n",
              "<style scoped>\n",
              "    .dataframe tbody tr th:only-of-type {\n",
              "        vertical-align: middle;\n",
              "    }\n",
              "\n",
              "    .dataframe tbody tr th {\n",
              "        vertical-align: top;\n",
              "    }\n",
              "\n",
              "    .dataframe thead th {\n",
              "        text-align: right;\n",
              "    }\n",
              "</style>\n",
              "<table border=\"1\" class=\"dataframe\">\n",
              "  <thead>\n",
              "    <tr style=\"text-align: right;\">\n",
              "      <th></th>\n",
              "      <th>0</th>\n",
              "      <th>1</th>\n",
              "      <th>2</th>\n",
              "      <th>3</th>\n",
              "      <th>4</th>\n",
              "      <th>5</th>\n",
              "      <th>6</th>\n",
              "      <th>7</th>\n",
              "      <th>8</th>\n",
              "      <th>9</th>\n",
              "      <th>...</th>\n",
              "      <th>31</th>\n",
              "      <th>32</th>\n",
              "      <th>33</th>\n",
              "      <th>34</th>\n",
              "      <th>35</th>\n",
              "      <th>36</th>\n",
              "      <th>37</th>\n",
              "      <th>38</th>\n",
              "      <th>39</th>\n",
              "      <th>40</th>\n",
              "    </tr>\n",
              "  </thead>\n",
              "  <tbody>\n",
              "    <tr>\n",
              "      <th>;;;Borders;Borders;Borders;Borders;Borders;Borders;Borders;Borders;Hatching;Hatching;Hatching;Hatching;Hatching;Hatching;Hatching;Hatching;Blocked paths;Blocked paths;Blocked paths;Blocked paths;Blocked paths;Blocked paths;Blocked paths;Blocked paths;Support;Support;Support;Support;Support;Support;Support;Support;Uncategorized;Uncategorized;Contours;Contours;Jumps;Jumps</th>\n",
              "      <td>1</td>\n",
              "      <td>0.0000</td>\n",
              "      <td>0.0000</td>\n",
              "      <td>1360</td>\n",
              "      <td>1114.0369</td>\n",
              "      <td>1360</td>\n",
              "      <td>1114.0369</td>\n",
              "      <td>0</td>\n",
              "      <td>0.0000</td>\n",
              "      <td>0</td>\n",
              "      <td>...</td>\n",
              "      <td>0</td>\n",
              "      <td>0.0000</td>\n",
              "      <td>0</td>\n",
              "      <td>0.0000</td>\n",
              "      <td>0</td>\n",
              "      <td>0.0000</td>\n",
              "      <td>0</td>\n",
              "      <td>0.0000</td>\n",
              "      <td>4243</td>\n",
              "      <td>1439.3040</td>\n",
              "    </tr>\n",
              "  </tbody>\n",
              "</table>\n",
              "<p>1 rows × 41 columns</p>\n",
              "</div>\n",
              "      <button class=\"colab-df-convert\" onclick=\"convertToInteractive('df-49743824-0125-4f54-9b17-47264d789325')\"\n",
              "              title=\"Convert this dataframe to an interactive table.\"\n",
              "              style=\"display:none;\">\n",
              "        \n",
              "  <svg xmlns=\"http://www.w3.org/2000/svg\" height=\"24px\"viewBox=\"0 0 24 24\"\n",
              "       width=\"24px\">\n",
              "    <path d=\"M0 0h24v24H0V0z\" fill=\"none\"/>\n",
              "    <path d=\"M18.56 5.44l.94 2.06.94-2.06 2.06-.94-2.06-.94-.94-2.06-.94 2.06-2.06.94zm-11 1L8.5 8.5l.94-2.06 2.06-.94-2.06-.94L8.5 2.5l-.94 2.06-2.06.94zm10 10l.94 2.06.94-2.06 2.06-.94-2.06-.94-.94-2.06-.94 2.06-2.06.94z\"/><path d=\"M17.41 7.96l-1.37-1.37c-.4-.4-.92-.59-1.43-.59-.52 0-1.04.2-1.43.59L10.3 9.45l-7.72 7.72c-.78.78-.78 2.05 0 2.83L4 21.41c.39.39.9.59 1.41.59.51 0 1.02-.2 1.41-.59l7.78-7.78 2.81-2.81c.8-.78.8-2.07 0-2.86zM5.41 20L4 18.59l7.72-7.72 1.47 1.35L5.41 20z\"/>\n",
              "  </svg>\n",
              "      </button>\n",
              "      \n",
              "  <style>\n",
              "    .colab-df-container {\n",
              "      display:flex;\n",
              "      flex-wrap:wrap;\n",
              "      gap: 12px;\n",
              "    }\n",
              "\n",
              "    .colab-df-convert {\n",
              "      background-color: #E8F0FE;\n",
              "      border: none;\n",
              "      border-radius: 50%;\n",
              "      cursor: pointer;\n",
              "      display: none;\n",
              "      fill: #1967D2;\n",
              "      height: 32px;\n",
              "      padding: 0 0 0 0;\n",
              "      width: 32px;\n",
              "    }\n",
              "\n",
              "    .colab-df-convert:hover {\n",
              "      background-color: #E2EBFA;\n",
              "      box-shadow: 0px 1px 2px rgba(60, 64, 67, 0.3), 0px 1px 3px 1px rgba(60, 64, 67, 0.15);\n",
              "      fill: #174EA6;\n",
              "    }\n",
              "\n",
              "    [theme=dark] .colab-df-convert {\n",
              "      background-color: #3B4455;\n",
              "      fill: #D2E3FC;\n",
              "    }\n",
              "\n",
              "    [theme=dark] .colab-df-convert:hover {\n",
              "      background-color: #434B5C;\n",
              "      box-shadow: 0px 1px 3px 1px rgba(0, 0, 0, 0.15);\n",
              "      filter: drop-shadow(0px 1px 2px rgba(0, 0, 0, 0.3));\n",
              "      fill: #FFFFFF;\n",
              "    }\n",
              "  </style>\n",
              "\n",
              "      <script>\n",
              "        const buttonEl =\n",
              "          document.querySelector('#df-49743824-0125-4f54-9b17-47264d789325 button.colab-df-convert');\n",
              "        buttonEl.style.display =\n",
              "          google.colab.kernel.accessAllowed ? 'block' : 'none';\n",
              "\n",
              "        async function convertToInteractive(key) {\n",
              "          const element = document.querySelector('#df-49743824-0125-4f54-9b17-47264d789325');\n",
              "          const dataTable =\n",
              "            await google.colab.kernel.invokeFunction('convertToInteractive',\n",
              "                                                     [key], {});\n",
              "          if (!dataTable) return;\n",
              "\n",
              "          const docLinkHtml = 'Like what you see? Visit the ' +\n",
              "            '<a target=\"_blank\" href=https://colab.research.google.com/notebooks/data_table.ipynb>data table notebook</a>'\n",
              "            + ' to learn more about interactive tables.';\n",
              "          element.innerHTML = '';\n",
              "          dataTable['output_type'] = 'display_data';\n",
              "          await google.colab.output.renderOutput(dataTable, element);\n",
              "          const docLink = document.createElement('div');\n",
              "          docLink.innerHTML = docLinkHtml;\n",
              "          element.appendChild(docLink);\n",
              "        }\n",
              "      </script>\n",
              "    </div>\n",
              "  </div>\n",
              "  "
            ]
          },
          "metadata": {},
          "execution_count": 29
        }
      ]
    },
    {
      "cell_type": "code",
      "source": [
        "type(df_data)"
      ],
      "metadata": {
        "id": "RN79vcC_KW69",
        "outputId": "bc1c0196-3c5b-4304-87c6-5c4413ff0717",
        "colab": {
          "base_uri": "https://localhost:8080/"
        }
      },
      "execution_count": null,
      "outputs": [
        {
          "output_type": "execute_result",
          "data": {
            "text/plain": [
              "pandas.core.frame.DataFrame"
            ]
          },
          "metadata": {},
          "execution_count": 30
        }
      ]
    },
    {
      "cell_type": "code",
      "source": [
        "df_data.shape"
      ],
      "metadata": {
        "id": "VLnr_k4UKknH",
        "outputId": "7bead82f-e0ff-4c47-debd-4dfa06fdfa9b",
        "colab": {
          "base_uri": "https://localhost:8080/"
        }
      },
      "execution_count": null,
      "outputs": [
        {
          "output_type": "execute_result",
          "data": {
            "text/plain": [
              "(1, 41)"
            ]
          },
          "metadata": {},
          "execution_count": 31
        }
      ]
    },
    {
      "cell_type": "code",
      "source": [
        "df_data.columns"
      ],
      "metadata": {
        "id": "ErPoiHTgKqmh",
        "outputId": "d404a908-55ae-4306-90eb-9dfd396bbabf",
        "colab": {
          "base_uri": "https://localhost:8080/"
        }
      },
      "execution_count": null,
      "outputs": [
        {
          "output_type": "execute_result",
          "data": {
            "text/plain": [
              "RangeIndex(start=0, stop=41, step=1)"
            ]
          },
          "metadata": {},
          "execution_count": 32
        }
      ]
    },
    {
      "cell_type": "code",
      "source": [
        "df_data.iloc[0,-1]"
      ],
      "metadata": {
        "id": "JHVcJg2MK28u",
        "outputId": "de0ff814-82af-4185-e4be-705de8db3d7e",
        "colab": {
          "base_uri": "https://localhost:8080/",
          "height": 35
        }
      },
      "execution_count": null,
      "outputs": [
        {
          "output_type": "execute_result",
          "data": {
            "text/plain": [
              "'1439.3040'"
            ],
            "application/vnd.google.colaboratory.intrinsic+json": {
              "type": "string"
            }
          },
          "metadata": {},
          "execution_count": 33
        }
      ]
    },
    {
      "cell_type": "code",
      "source": [
        ""
      ],
      "metadata": {
        "id": "2Y6cngvjLJfy"
      },
      "execution_count": null,
      "outputs": []
    },
    {
      "cell_type": "markdown",
      "source": [
        "https://datascienceparichay.com/article/pandas-split-column-by-delimiter/"
      ],
      "metadata": {
        "id": "7cD9ypA7hQkO"
      }
    },
    {
      "cell_type": "code",
      "source": [
        "new_line = first_line.str.split(';', expand=True)"
      ],
      "metadata": {
        "id": "rp-MAmE-gC67"
      },
      "execution_count": null,
      "outputs": []
    },
    {
      "cell_type": "code",
      "source": [
        "new_line"
      ],
      "metadata": {
        "id": "hyvcNSrGgbPj",
        "outputId": "f0d0f384-5590-47e9-d225-25cbfca8f9ab",
        "colab": {
          "base_uri": "https://localhost:8080/",
          "height": 209
        }
      },
      "execution_count": null,
      "outputs": [
        {
          "output_type": "execute_result",
          "data": {
            "text/plain": [
              "                                                   0  1  2      3      4   \\\n",
              ";;;Borders;Borders;Borders;Borders;Borders;Bord...           Total  Total   \n",
              "\n",
              "                                                        5       6   \\\n",
              ";;;Borders;Borders;Borders;Borders;Borders;Bord...  Border  Border   \n",
              "\n",
              "                                                                 7   \\\n",
              ";;;Borders;Borders;Borders;Borders;Borders;Bord...  Downskin border   \n",
              "\n",
              "                                                                 8   \\\n",
              ";;;Borders;Borders;Borders;Borders;Borders;Bord...  Downskin border   \n",
              "\n",
              "                                                               9   ...  \\\n",
              ";;;Borders;Borders;Borders;Borders;Borders;Bord...  Upskin border  ...   \n",
              "\n",
              "                                                                  31  \\\n",
              ";;;Borders;Borders;Borders;Borders;Borders;Bord...  Downskin support   \n",
              "\n",
              "                                                                  32  \\\n",
              ";;;Borders;Borders;Borders;Borders;Borders;Bord...  Downskin support   \n",
              "\n",
              "                                                                33  \\\n",
              ";;;Borders;Borders;Borders;Borders;Borders;Bord...  Upskin support   \n",
              "\n",
              "                                                                34     35  \\\n",
              ";;;Borders;Borders;Borders;Borders;Borders;Bord...  Upskin support  Total   \n",
              "\n",
              "                                                       36     37     38  \\\n",
              ";;;Borders;Borders;Borders;Borders;Borders;Bord...  Total  Total  Total   \n",
              "\n",
              "                                                       39     40  \n",
              ";;;Borders;Borders;Borders;Borders;Borders;Bord...  Total  Total  \n",
              "\n",
              "[1 rows x 41 columns]"
            ],
            "text/html": [
              "\n",
              "  <div id=\"df-b208518b-6393-4ece-8bff-adc8037d4dcd\">\n",
              "    <div class=\"colab-df-container\">\n",
              "      <div>\n",
              "<style scoped>\n",
              "    .dataframe tbody tr th:only-of-type {\n",
              "        vertical-align: middle;\n",
              "    }\n",
              "\n",
              "    .dataframe tbody tr th {\n",
              "        vertical-align: top;\n",
              "    }\n",
              "\n",
              "    .dataframe thead th {\n",
              "        text-align: right;\n",
              "    }\n",
              "</style>\n",
              "<table border=\"1\" class=\"dataframe\">\n",
              "  <thead>\n",
              "    <tr style=\"text-align: right;\">\n",
              "      <th></th>\n",
              "      <th>0</th>\n",
              "      <th>1</th>\n",
              "      <th>2</th>\n",
              "      <th>3</th>\n",
              "      <th>4</th>\n",
              "      <th>5</th>\n",
              "      <th>6</th>\n",
              "      <th>7</th>\n",
              "      <th>8</th>\n",
              "      <th>9</th>\n",
              "      <th>...</th>\n",
              "      <th>31</th>\n",
              "      <th>32</th>\n",
              "      <th>33</th>\n",
              "      <th>34</th>\n",
              "      <th>35</th>\n",
              "      <th>36</th>\n",
              "      <th>37</th>\n",
              "      <th>38</th>\n",
              "      <th>39</th>\n",
              "      <th>40</th>\n",
              "    </tr>\n",
              "  </thead>\n",
              "  <tbody>\n",
              "    <tr>\n",
              "      <th>;;;Borders;Borders;Borders;Borders;Borders;Borders;Borders;Borders;Hatching;Hatching;Hatching;Hatching;Hatching;Hatching;Hatching;Hatching;Blocked paths;Blocked paths;Blocked paths;Blocked paths;Blocked paths;Blocked paths;Blocked paths;Blocked paths;Support;Support;Support;Support;Support;Support;Support;Support;Uncategorized;Uncategorized;Contours;Contours;Jumps;Jumps</th>\n",
              "      <td></td>\n",
              "      <td></td>\n",
              "      <td></td>\n",
              "      <td>Total</td>\n",
              "      <td>Total</td>\n",
              "      <td>Border</td>\n",
              "      <td>Border</td>\n",
              "      <td>Downskin border</td>\n",
              "      <td>Downskin border</td>\n",
              "      <td>Upskin border</td>\n",
              "      <td>...</td>\n",
              "      <td>Downskin support</td>\n",
              "      <td>Downskin support</td>\n",
              "      <td>Upskin support</td>\n",
              "      <td>Upskin support</td>\n",
              "      <td>Total</td>\n",
              "      <td>Total</td>\n",
              "      <td>Total</td>\n",
              "      <td>Total</td>\n",
              "      <td>Total</td>\n",
              "      <td>Total</td>\n",
              "    </tr>\n",
              "  </tbody>\n",
              "</table>\n",
              "<p>1 rows × 41 columns</p>\n",
              "</div>\n",
              "      <button class=\"colab-df-convert\" onclick=\"convertToInteractive('df-b208518b-6393-4ece-8bff-adc8037d4dcd')\"\n",
              "              title=\"Convert this dataframe to an interactive table.\"\n",
              "              style=\"display:none;\">\n",
              "        \n",
              "  <svg xmlns=\"http://www.w3.org/2000/svg\" height=\"24px\"viewBox=\"0 0 24 24\"\n",
              "       width=\"24px\">\n",
              "    <path d=\"M0 0h24v24H0V0z\" fill=\"none\"/>\n",
              "    <path d=\"M18.56 5.44l.94 2.06.94-2.06 2.06-.94-2.06-.94-.94-2.06-.94 2.06-2.06.94zm-11 1L8.5 8.5l.94-2.06 2.06-.94-2.06-.94L8.5 2.5l-.94 2.06-2.06.94zm10 10l.94 2.06.94-2.06 2.06-.94-2.06-.94-.94-2.06-.94 2.06-2.06.94z\"/><path d=\"M17.41 7.96l-1.37-1.37c-.4-.4-.92-.59-1.43-.59-.52 0-1.04.2-1.43.59L10.3 9.45l-7.72 7.72c-.78.78-.78 2.05 0 2.83L4 21.41c.39.39.9.59 1.41.59.51 0 1.02-.2 1.41-.59l7.78-7.78 2.81-2.81c.8-.78.8-2.07 0-2.86zM5.41 20L4 18.59l7.72-7.72 1.47 1.35L5.41 20z\"/>\n",
              "  </svg>\n",
              "      </button>\n",
              "      \n",
              "  <style>\n",
              "    .colab-df-container {\n",
              "      display:flex;\n",
              "      flex-wrap:wrap;\n",
              "      gap: 12px;\n",
              "    }\n",
              "\n",
              "    .colab-df-convert {\n",
              "      background-color: #E8F0FE;\n",
              "      border: none;\n",
              "      border-radius: 50%;\n",
              "      cursor: pointer;\n",
              "      display: none;\n",
              "      fill: #1967D2;\n",
              "      height: 32px;\n",
              "      padding: 0 0 0 0;\n",
              "      width: 32px;\n",
              "    }\n",
              "\n",
              "    .colab-df-convert:hover {\n",
              "      background-color: #E2EBFA;\n",
              "      box-shadow: 0px 1px 2px rgba(60, 64, 67, 0.3), 0px 1px 3px 1px rgba(60, 64, 67, 0.15);\n",
              "      fill: #174EA6;\n",
              "    }\n",
              "\n",
              "    [theme=dark] .colab-df-convert {\n",
              "      background-color: #3B4455;\n",
              "      fill: #D2E3FC;\n",
              "    }\n",
              "\n",
              "    [theme=dark] .colab-df-convert:hover {\n",
              "      background-color: #434B5C;\n",
              "      box-shadow: 0px 1px 3px 1px rgba(0, 0, 0, 0.15);\n",
              "      filter: drop-shadow(0px 1px 2px rgba(0, 0, 0, 0.3));\n",
              "      fill: #FFFFFF;\n",
              "    }\n",
              "  </style>\n",
              "\n",
              "      <script>\n",
              "        const buttonEl =\n",
              "          document.querySelector('#df-b208518b-6393-4ece-8bff-adc8037d4dcd button.colab-df-convert');\n",
              "        buttonEl.style.display =\n",
              "          google.colab.kernel.accessAllowed ? 'block' : 'none';\n",
              "\n",
              "        async function convertToInteractive(key) {\n",
              "          const element = document.querySelector('#df-b208518b-6393-4ece-8bff-adc8037d4dcd');\n",
              "          const dataTable =\n",
              "            await google.colab.kernel.invokeFunction('convertToInteractive',\n",
              "                                                     [key], {});\n",
              "          if (!dataTable) return;\n",
              "\n",
              "          const docLinkHtml = 'Like what you see? Visit the ' +\n",
              "            '<a target=\"_blank\" href=https://colab.research.google.com/notebooks/data_table.ipynb>data table notebook</a>'\n",
              "            + ' to learn more about interactive tables.';\n",
              "          element.innerHTML = '';\n",
              "          dataTable['output_type'] = 'display_data';\n",
              "          await google.colab.output.renderOutput(dataTable, element);\n",
              "          const docLink = document.createElement('div');\n",
              "          docLink.innerHTML = docLinkHtml;\n",
              "          element.appendChild(docLink);\n",
              "        }\n",
              "      </script>\n",
              "    </div>\n",
              "  </div>\n",
              "  "
            ]
          },
          "metadata": {},
          "execution_count": 8
        }
      ]
    },
    {
      "cell_type": "code",
      "source": [
        "len(new_line)"
      ],
      "metadata": {
        "id": "VYVyqIXLgkXw",
        "outputId": "07708402-4262-41f8-961b-6a54dfe9d651",
        "colab": {
          "base_uri": "https://localhost:8080/"
        }
      },
      "execution_count": null,
      "outputs": [
        {
          "output_type": "execute_result",
          "data": {
            "text/plain": [
              "1"
            ]
          },
          "metadata": {},
          "execution_count": 13
        }
      ]
    },
    {
      "cell_type": "code",
      "source": [
        "second_line = data.iloc[3]"
      ],
      "metadata": {
        "id": "q8sCuEUAgxba"
      },
      "execution_count": null,
      "outputs": []
    },
    {
      "cell_type": "code",
      "source": [
        "second_line"
      ],
      "metadata": {
        "id": "zklfuotdg3Sm",
        "outputId": "d0242abf-6a70-4c84-d508-1610cc69b852",
        "colab": {
          "base_uri": "https://localhost:8080/"
        }
      },
      "execution_count": null,
      "outputs": [
        {
          "output_type": "execute_result",
          "data": {
            "text/plain": [
              ";;;Borders;Borders;Borders;Borders;Borders;Borders;Borders;Borders;Hatching;Hatching;Hatching;Hatching;Hatching;Hatching;Hatching;Hatching;Blocked paths;Blocked paths;Blocked paths;Blocked paths;Blocked paths;Blocked paths;Blocked paths;Blocked paths;Support;Support;Support;Support;Support;Support;Support;Support;Uncategorized;Uncategorized;Contours;Contours;Jumps;Jumps    2;0.0300;0.0000;1360;1114.0389;1360;1114.0389;...\n",
              "Name: 3, dtype: object"
            ]
          },
          "metadata": {},
          "execution_count": 19
        }
      ]
    },
    {
      "cell_type": "code",
      "source": [
        "data.iloc[7]"
      ],
      "metadata": {
        "id": "hCRIEfH4hCwU",
        "outputId": "2abdfaa6-ec61-45e0-a85a-4565409fe98c",
        "colab": {
          "base_uri": "https://localhost:8080/"
        }
      },
      "execution_count": null,
      "outputs": [
        {
          "output_type": "execute_result",
          "data": {
            "text/plain": [
              ";;;Borders;Borders;Borders;Borders;Borders;Borders;Borders;Borders;Hatching;Hatching;Hatching;Hatching;Hatching;Hatching;Hatching;Hatching;Blocked paths;Blocked paths;Blocked paths;Blocked paths;Blocked paths;Blocked paths;Blocked paths;Blocked paths;Support;Support;Support;Support;Support;Support;Support;Support;Uncategorized;Uncategorized;Contours;Contours;Jumps;Jumps    6;0.1500;0.0000;2020;1114.0449;2020;1114.0449;...\n",
              "Name: 7, dtype: object"
            ]
          },
          "metadata": {},
          "execution_count": 22
        }
      ]
    },
    {
      "cell_type": "code",
      "source": [
        "data.index"
      ],
      "metadata": {
        "colab": {
          "base_uri": "https://localhost:8080/"
        },
        "id": "wP129EHkSM__",
        "outputId": "19c72546-d210-418d-c632-7ff99baa3cbb"
      },
      "execution_count": null,
      "outputs": [
        {
          "output_type": "execute_result",
          "data": {
            "text/plain": [
              "RangeIndex(start=0, stop=219, step=1)"
            ]
          },
          "metadata": {},
          "execution_count": 4
        }
      ]
    },
    {
      "cell_type": "code",
      "source": [
        "data.describe()"
      ],
      "metadata": {
        "colab": {
          "base_uri": "https://localhost:8080/",
          "height": 273
        },
        "id": "kWwbq4ERSO9M",
        "outputId": "56992992-d4b5-4d40-eedd-28fe6af0d4a9"
      },
      "execution_count": null,
      "outputs": [
        {
          "output_type": "execute_result",
          "data": {
            "text/plain": [
              "       ;;;Borders;Borders;Borders;Borders;Borders;Borders;Borders;Borders;Hatching;Hatching;Hatching;Hatching;Hatching;Hatching;Hatching;Hatching;Blocked paths;Blocked paths;Blocked paths;Blocked paths;Blocked paths;Blocked paths;Blocked paths;Blocked paths;Support;Support;Support;Support;Support;Support;Support;Support;Uncategorized;Uncategorized;Contours;Contours;Jumps;Jumps\n",
              "count                                                 219                                                                                                                                                                                                                                                                                                                                  \n",
              "unique                                                219                                                                                                                                                                                                                                                                                                                                  \n",
              "top     ;;;Total;Total;Border;Border;Downskin border;D...                                                                                                                                                                                                                                                                                                                                  \n",
              "freq                                                    1                                                                                                                                                                                                                                                                                                                                  "
            ],
            "text/html": [
              "\n",
              "  <div id=\"df-cbceb4dd-82c8-4406-843c-fcd61d36cc69\">\n",
              "    <div class=\"colab-df-container\">\n",
              "      <div>\n",
              "<style scoped>\n",
              "    .dataframe tbody tr th:only-of-type {\n",
              "        vertical-align: middle;\n",
              "    }\n",
              "\n",
              "    .dataframe tbody tr th {\n",
              "        vertical-align: top;\n",
              "    }\n",
              "\n",
              "    .dataframe thead th {\n",
              "        text-align: right;\n",
              "    }\n",
              "</style>\n",
              "<table border=\"1\" class=\"dataframe\">\n",
              "  <thead>\n",
              "    <tr style=\"text-align: right;\">\n",
              "      <th></th>\n",
              "      <th>;;;Borders;Borders;Borders;Borders;Borders;Borders;Borders;Borders;Hatching;Hatching;Hatching;Hatching;Hatching;Hatching;Hatching;Hatching;Blocked paths;Blocked paths;Blocked paths;Blocked paths;Blocked paths;Blocked paths;Blocked paths;Blocked paths;Support;Support;Support;Support;Support;Support;Support;Support;Uncategorized;Uncategorized;Contours;Contours;Jumps;Jumps</th>\n",
              "    </tr>\n",
              "  </thead>\n",
              "  <tbody>\n",
              "    <tr>\n",
              "      <th>count</th>\n",
              "      <td>219</td>\n",
              "    </tr>\n",
              "    <tr>\n",
              "      <th>unique</th>\n",
              "      <td>219</td>\n",
              "    </tr>\n",
              "    <tr>\n",
              "      <th>top</th>\n",
              "      <td>;;;Total;Total;Border;Border;Downskin border;D...</td>\n",
              "    </tr>\n",
              "    <tr>\n",
              "      <th>freq</th>\n",
              "      <td>1</td>\n",
              "    </tr>\n",
              "  </tbody>\n",
              "</table>\n",
              "</div>\n",
              "      <button class=\"colab-df-convert\" onclick=\"convertToInteractive('df-cbceb4dd-82c8-4406-843c-fcd61d36cc69')\"\n",
              "              title=\"Convert this dataframe to an interactive table.\"\n",
              "              style=\"display:none;\">\n",
              "        \n",
              "  <svg xmlns=\"http://www.w3.org/2000/svg\" height=\"24px\"viewBox=\"0 0 24 24\"\n",
              "       width=\"24px\">\n",
              "    <path d=\"M0 0h24v24H0V0z\" fill=\"none\"/>\n",
              "    <path d=\"M18.56 5.44l.94 2.06.94-2.06 2.06-.94-2.06-.94-.94-2.06-.94 2.06-2.06.94zm-11 1L8.5 8.5l.94-2.06 2.06-.94-2.06-.94L8.5 2.5l-.94 2.06-2.06.94zm10 10l.94 2.06.94-2.06 2.06-.94-2.06-.94-.94-2.06-.94 2.06-2.06.94z\"/><path d=\"M17.41 7.96l-1.37-1.37c-.4-.4-.92-.59-1.43-.59-.52 0-1.04.2-1.43.59L10.3 9.45l-7.72 7.72c-.78.78-.78 2.05 0 2.83L4 21.41c.39.39.9.59 1.41.59.51 0 1.02-.2 1.41-.59l7.78-7.78 2.81-2.81c.8-.78.8-2.07 0-2.86zM5.41 20L4 18.59l7.72-7.72 1.47 1.35L5.41 20z\"/>\n",
              "  </svg>\n",
              "      </button>\n",
              "      \n",
              "  <style>\n",
              "    .colab-df-container {\n",
              "      display:flex;\n",
              "      flex-wrap:wrap;\n",
              "      gap: 12px;\n",
              "    }\n",
              "\n",
              "    .colab-df-convert {\n",
              "      background-color: #E8F0FE;\n",
              "      border: none;\n",
              "      border-radius: 50%;\n",
              "      cursor: pointer;\n",
              "      display: none;\n",
              "      fill: #1967D2;\n",
              "      height: 32px;\n",
              "      padding: 0 0 0 0;\n",
              "      width: 32px;\n",
              "    }\n",
              "\n",
              "    .colab-df-convert:hover {\n",
              "      background-color: #E2EBFA;\n",
              "      box-shadow: 0px 1px 2px rgba(60, 64, 67, 0.3), 0px 1px 3px 1px rgba(60, 64, 67, 0.15);\n",
              "      fill: #174EA6;\n",
              "    }\n",
              "\n",
              "    [theme=dark] .colab-df-convert {\n",
              "      background-color: #3B4455;\n",
              "      fill: #D2E3FC;\n",
              "    }\n",
              "\n",
              "    [theme=dark] .colab-df-convert:hover {\n",
              "      background-color: #434B5C;\n",
              "      box-shadow: 0px 1px 3px 1px rgba(0, 0, 0, 0.15);\n",
              "      filter: drop-shadow(0px 1px 2px rgba(0, 0, 0, 0.3));\n",
              "      fill: #FFFFFF;\n",
              "    }\n",
              "  </style>\n",
              "\n",
              "      <script>\n",
              "        const buttonEl =\n",
              "          document.querySelector('#df-cbceb4dd-82c8-4406-843c-fcd61d36cc69 button.colab-df-convert');\n",
              "        buttonEl.style.display =\n",
              "          google.colab.kernel.accessAllowed ? 'block' : 'none';\n",
              "\n",
              "        async function convertToInteractive(key) {\n",
              "          const element = document.querySelector('#df-cbceb4dd-82c8-4406-843c-fcd61d36cc69');\n",
              "          const dataTable =\n",
              "            await google.colab.kernel.invokeFunction('convertToInteractive',\n",
              "                                                     [key], {});\n",
              "          if (!dataTable) return;\n",
              "\n",
              "          const docLinkHtml = 'Like what you see? Visit the ' +\n",
              "            '<a target=\"_blank\" href=https://colab.research.google.com/notebooks/data_table.ipynb>data table notebook</a>'\n",
              "            + ' to learn more about interactive tables.';\n",
              "          element.innerHTML = '';\n",
              "          dataTable['output_type'] = 'display_data';\n",
              "          await google.colab.output.renderOutput(dataTable, element);\n",
              "          const docLink = document.createElement('div');\n",
              "          docLink.innerHTML = docLinkHtml;\n",
              "          element.appendChild(docLink);\n",
              "        }\n",
              "      </script>\n",
              "    </div>\n",
              "  </div>\n",
              "  "
            ]
          },
          "metadata": {},
          "execution_count": 5
        }
      ]
    },
    {
      "cell_type": "code",
      "source": [
        "data.info()"
      ],
      "metadata": {
        "colab": {
          "base_uri": "https://localhost:8080/"
        },
        "id": "x3o-NCyeSWKI",
        "outputId": "76089ee9-c9dd-4fe4-f12e-daf8161f60c2"
      },
      "execution_count": null,
      "outputs": [
        {
          "output_type": "stream",
          "name": "stdout",
          "text": [
            "<class 'pandas.core.frame.DataFrame'>\n",
            "RangeIndex: 219 entries, 0 to 218\n",
            "Data columns (total 1 columns):\n",
            " #   Column                                                                                                                                                                                                                                                                                                                                                                                Non-Null Count  Dtype \n",
            "---  ------                                                                                                                                                                                                                                                                                                                                                                                --------------  ----- \n",
            " 0   ;;;Borders;Borders;Borders;Borders;Borders;Borders;Borders;Borders;Hatching;Hatching;Hatching;Hatching;Hatching;Hatching;Hatching;Hatching;Blocked paths;Blocked paths;Blocked paths;Blocked paths;Blocked paths;Blocked paths;Blocked paths;Blocked paths;Support;Support;Support;Support;Support;Support;Support;Support;Uncategorized;Uncategorized;Contours;Contours;Jumps;Jumps  219 non-null    object\n",
            "dtypes: object(1)\n",
            "memory usage: 1.8+ KB\n"
          ]
        }
      ]
    },
    {
      "cell_type": "code",
      "source": [
        "type(data)"
      ],
      "metadata": {
        "colab": {
          "base_uri": "https://localhost:8080/"
        },
        "id": "5jJfbHhUSbp0",
        "outputId": "c7e447ab-300e-4e8b-cc66-631050731ae6"
      },
      "execution_count": null,
      "outputs": [
        {
          "output_type": "execute_result",
          "data": {
            "text/plain": [
              "pandas.core.frame.DataFrame"
            ]
          },
          "metadata": {},
          "execution_count": 8
        }
      ]
    },
    {
      "cell_type": "code",
      "source": [
        "len(data.columns)"
      ],
      "metadata": {
        "colab": {
          "base_uri": "https://localhost:8080/"
        },
        "id": "kRuyBoSxSzmA",
        "outputId": "eab105ed-bbe6-4435-ef71-1773e958394d"
      },
      "execution_count": null,
      "outputs": [
        {
          "output_type": "execute_result",
          "data": {
            "text/plain": [
              "1"
            ]
          },
          "metadata": {},
          "execution_count": 9
        }
      ]
    },
    {
      "cell_type": "code",
      "source": [
        ""
      ],
      "metadata": {
        "id": "fs0yPBnLS690"
      },
      "execution_count": null,
      "outputs": []
    }
  ]
}