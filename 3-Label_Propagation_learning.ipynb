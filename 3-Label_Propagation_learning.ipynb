{
  "nbformat": 4,
  "nbformat_minor": 0,
  "metadata": {
    "colab": {
      "provenance": []
    },
    "kernelspec": {
      "name": "python3",
      "display_name": "Python 3"
    },
    "language_info": {
      "name": "python"
    }
  },
  "cells": [
    {
      "cell_type": "markdown",
      "source": [
        "Label Propagation learning a complex structure\n",
        "\n",
        "We generate a dataset with two concentric circles. In addition, a label is associated with each sample of the dataset that is: 0 (belonging to the outer circle), 1 (belonging to the inner circle), and -1 (unknown). Here, all labels but two are tagged as unknown."
      ],
      "metadata": {
        "id": "-XjoXrX6XMG4"
      }
    },
    {
      "cell_type": "code",
      "execution_count": 1,
      "metadata": {
        "id": "-KO3522nXLdw"
      },
      "outputs": [],
      "source": [
        "import numpy as np\n",
        "from sklearn.datasets import make_circles\n",
        "\n",
        "n_samples = 200\n",
        "X, y = make_circles(n_samples=n_samples, shuffle=False)\n",
        "outer, inner = 0, 1\n",
        "labels = np.full(n_samples, -1.0)\n",
        "labels[0] = outer\n",
        "labels[-1] = inner"
      ]
    },
    {
      "cell_type": "markdown",
      "source": [
        "Plot raw data"
      ],
      "metadata": {
        "id": "i7quBxIYXhxG"
      }
    },
    {
      "cell_type": "code",
      "source": [
        "import matplotlib.pyplot as plt\n",
        "\n",
        "plt.figure(figsize=(4, 4))\n",
        "plt.scatter(\n",
        "    X[labels == outer, 0],\n",
        "    X[labels == outer, 1],\n",
        "    color=\"navy\",\n",
        "    marker=\"s\",\n",
        "    lw=0,\n",
        "    label=\"outer labeled\",\n",
        "    s=10,\n",
        ")\n",
        "plt.scatter(\n",
        "    X[labels == inner, 0],\n",
        "    X[labels == inner, 1],\n",
        "    color=\"c\",\n",
        "    marker=\"s\",\n",
        "    lw=0,\n",
        "    label=\"inner labeled\",\n",
        "    s=10,\n",
        ")\n",
        "plt.scatter(\n",
        "    X[labels == -1, 0],\n",
        "    X[labels == -1, 1],\n",
        "    color=\"darkorange\",\n",
        "    marker=\".\",\n",
        "    label=\"unlabeled\",\n",
        ")\n",
        "plt.legend(scatterpoints=1, shadow=False, loc=\"upper right\")\n",
        "plt.title(\"Raw data (2 classes=outer and inner)\")"
      ],
      "metadata": {
        "colab": {
          "base_uri": "https://localhost:8080/",
          "height": 299
        },
        "id": "wSm9Eaa2Xggd",
        "outputId": "f99fc7ec-13cb-4742-cd69-100fc0da363f"
      },
      "execution_count": 2,
      "outputs": [
        {
          "output_type": "execute_result",
          "data": {
            "text/plain": [
              "Text(0.5, 1.0, 'Raw data (2 classes=outer and inner)')"
            ]
          },
          "metadata": {},
          "execution_count": 2
        },
        {
          "output_type": "display_data",
          "data": {
            "text/plain": [
              "<Figure size 288x288 with 1 Axes>"
            ],
            "image/png": "[encoded data removed]"
          },
          "metadata": {
            "needs_background": "light"
          }
        }
      ]
    }
  ]
}