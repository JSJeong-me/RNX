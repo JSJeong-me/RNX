{
 "cells": [
  {
   "cell_type": "code",
   "execution_count": 2,
   "id": "9f743cc1-6e40-4ecc-aec9-de6c6430450a",
   "metadata": {},
   "outputs": [
    {
     "name": "stdout",
     "output_type": "stream",
     "text": [
      "Collecting opencv-python==4.7.0.68\n",
      "  Downloading opencv_python-4.7.0.68-cp37-abi3-win_amd64.whl (38.2 MB)\n",
      "     --------------------------------------- 38.2/38.2 MB 16.4 MB/s eta 0:00:00\n",
      "Requirement already satisfied: numpy>=1.17.0 in c:\\users\\oakyo\\anaconda3\\lib\\site-packages (from opencv-python==4.7.0.68) (1.23.5)\n",
      "Installing collected packages: opencv-python\n",
      "Successfully installed opencv-python-4.7.0.68\n"
     ]
    }
   ],
   "source": [
    "!pip install opencv-python==4.7.0.68"
   ]
  },
  {
   "cell_type": "code",
   "execution_count": 4,
   "id": "2347cde1-1605-44a9-ab6d-ab5f078d6c06",
   "metadata": {},
   "outputs": [
    {
     "data": {
      "text/plain": [
       "True"
      ]
     },
     "execution_count": 4,
     "metadata": {},
     "output_type": "execute_result"
    }
   ],
   "source": [
    "import cv2\n",
    "import numpy as np\n",
    "\n",
    "# Source image size\n",
    "src_size = (2071, 2160)\n",
    "# Target image coordinates\n",
    "pts_src = np.array([(0, 0), (src_size[0] - 1, 0), (src_size[0] - 1, src_size[1] - 1), (0, src_size[1] - 1)], dtype=float)\n",
    "pts_dst = np.array([(2071, 1103), (1777, 1277), (1937, 1577), (2233, 1399)], dtype=float)\n",
    "\n",
    "# Input and output filenames\n",
    "input_filename = \".\\\\frames-sampled\\\\sampled_frame_23.png\"\n",
    "output_filename = \".\\\\extracted\\\\extracted_frame_23.png\"\n",
    "\n",
    "# Read input image\n",
    "img = cv2.imread(input_filename)\n",
    "\n",
    "# Compute homography matrix\n",
    "h, status = cv2.findHomography(pts_dst, pts_src)\n",
    "\n",
    "# Warp the image\n",
    "img_warped = cv2.warpPerspective(img, h, src_size)\n",
    "\n",
    "# Save the warped image\n",
    "cv2.imwrite(output_filename, img_warped)"
   ]
  },
  {
   "cell_type": "code",
   "execution_count": null,
   "id": "9b5ff19d-9603-4584-bbb2-0ecd6b6c9ab2",
   "metadata": {},
   "outputs": [],
   "source": []
  }
 ],
 "metadata": {
  "kernelspec": {
   "display_name": "Python 3 (ipykernel)",
   "language": "python",
   "name": "python3"
  },
  "language_info": {
   "codemirror_mode": {
    "name": "ipython",
    "version": 3
   },
   "file_extension": ".py",
   "mimetype": "text/x-python",
   "name": "python",
   "nbconvert_exporter": "python",
   "pygments_lexer": "ipython3",
   "version": "3.10.9"
  }
 },
 "nbformat": 4,
 "nbformat_minor": 5
}
