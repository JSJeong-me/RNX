{
  "nbformat": 4,
  "nbformat_minor": 0,
  "metadata": {
    "colab": {
      "name": "Untitled4.ipynb",
      "provenance": []
    },
    "kernelspec": {
      "name": "python3",
      "display_name": "Python 3"
    },
    "language_info": {
      "name": "python"
    }
  },
  "cells": [
    {
      "cell_type": "code",
      "metadata": {
        "id": "2jXBBnzQ-fz0"
      },
      "source": [
        "import cv2\n",
        "import numpy as np\n",
        "\n",
        "def nothing(x):\n",
        "    pass\n",
        "\n",
        "cv2.namedWindow(\"Tracking\")\n",
        "cv2.createTrackbar(\"LH\", \"Tracking\", 0, 255, nothing)\n",
        "cv2.createTrackbar(\"LS\", \"Tracking\", 0, 255, nothing)\n",
        "cv2.createTrackbar(\"LV\", \"Tracking\", 0, 255, nothing)\n",
        "cv2.createTrackbar(\"UH\", \"Tracking\", 255, 255, nothing)\n",
        "cv2.createTrackbar(\"US\", \"Tracking\", 255, 255, nothing)\n",
        "cv2.createTrackbar(\"UV\", \"Tracking\", 255, 255, nothing)\n",
        "\n",
        "while True:\n",
        "    frame = cv2.imread('smarties.png')\n",
        "\n",
        "    hsv = cv2.cvtColor(frame, cv2.COLOR_BGR2HSV)\n",
        "\n",
        "    l_h = cv2.getTrackbarPos(\"LH\", \"Tracking\")\n",
        "    l_s = cv2.getTrackbarPos(\"LS\", \"Tracking\")\n",
        "    l_v = cv2.getTrackbarPos(\"LV\", \"Tracking\")\n",
        "\n",
        "    u_h = cv2.getTrackbarPos(\"UH\", \"Tracking\")\n",
        "    u_s = cv2.getTrackbarPos(\"US\", \"Tracking\")\n",
        "    u_v = cv2.getTrackbarPos(\"UV\", \"Tracking\")\n",
        "\n",
        "    l_b = np.array([l_h, l_s, l_v])\n",
        "    u_b = np.array([u_h, u_s, u_v])\n",
        "\n",
        "    mask = cv2.inRange(hsv, l_b, u_b)\n",
        "\n",
        "    res = cv2.bitwise_and(frame, frame, mask=mask)\n",
        "\n",
        "    cv2.imshow(\"frame\", frame)\n",
        "    cv2.imshow(\"mask\", mask)\n",
        "    cv2.imshow(\"res\", res)\n",
        "\n",
        "    key = cv2.waitKey(1)\n",
        "    if key == 27:\n",
        "        break\n",
        "\n",
        "cv2.destroyAllWindows()"
      ],
      "execution_count": null,
      "outputs": []
    }
  ]
}