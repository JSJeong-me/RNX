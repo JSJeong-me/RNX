{
  "nbformat": 4,
  "nbformat_minor": 0,
  "metadata": {
    "colab": {
      "provenance": [],
      "authorship_tag": "ABX9TyPbedIrVkRv/uARqoihMeph",
      "include_colab_link": true
    },
    "kernelspec": {
      "name": "python3",
      "display_name": "Python 3"
    },
    "language_info": {
      "name": "python"
    }
  },
  "cells": [
    {
      "cell_type": "markdown",
      "metadata": {
        "id": "view-in-github",
        "colab_type": "text"
      },
      "source": [
        "<a href=\"https://colab.research.google.com/github/JSJeong-me/RNX/blob/main/twilio/send-sms.ipynb\" target=\"_parent\"><img src=\"https://colab.research.google.com/assets/colab-badge.svg\" alt=\"Open In Colab\"/></a>"
      ]
    },
    {
      "cell_type": "markdown",
      "source": [
        "\n",
        "twilio"
      ],
      "metadata": {
        "id": "rp6RjJJsh4Y6"
      }
    },
    {
      "cell_type": "code",
      "execution_count": null,
      "metadata": {
        "id": "-XcgaM1_h3jl"
      },
      "outputs": [],
      "source": [
        "#!pip install twilio"
      ]
    },
    {
      "cell_type": "code",
      "source": [
        "from twilio.rest import Client\n",
        "\n",
        "account_sid = '--'\n",
        "auth_token = '--'\n",
        "client = Client(account_sid, auth_token)\n",
        "\n",
        "message = client.messages.create(\n",
        "    to=\"+82--\",\n",
        "    from_=\"+--\",\n",
        "    body=\"Hello from Python!\")\n",
        "\n",
        "print(message.sid)"
      ],
      "metadata": {
        "id": "CILgI6xdiAPa"
      },
      "execution_count": null,
      "outputs": []
    }
  ]
}