{
  "cells": [
    {
      "cell_type": "markdown",
      "metadata": {
        "id": "view-in-github",
        "colab_type": "text"
      },
      "source": [
        "<a href=\"https://colab.research.google.com/github/JSJeong-me/RNX/blob/main/otsu-contours-seg2.ipynb\" target=\"_parent\"><img src=\"https://colab.research.google.com/assets/colab-badge.svg\" alt=\"Open In Colab\"/></a>"
      ]
    },
    {
      "cell_type": "code",
      "execution_count": null,
      "id": "29467ede-8193-485b-bdc3-fc975bae5ecc",
      "metadata": {
        "id": "29467ede-8193-485b-bdc3-fc975bae5ecc"
      },
      "outputs": [],
      "source": []
    },
    {
      "cell_type": "code",
      "execution_count": 5,
      "id": "68fee6a7-c276-4654-93b1-37735552d58d",
      "metadata": {
        "id": "68fee6a7-c276-4654-93b1-37735552d58d"
      },
      "outputs": [],
      "source": [
        "import sys\n",
        "import cv2\n",
        "import numpy as np\n",
        "from google.colab.patches import cv2_imshow"
      ]
    },
    {
      "cell_type": "code",
      "execution_count": 2,
      "id": "d9ae3621-54bd-44dd-9ae1-9e49d8ef123a",
      "metadata": {
        "id": "d9ae3621-54bd-44dd-9ae1-9e49d8ef123a"
      },
      "outputs": [],
      "source": [
        "filename = 'seg2-removebg-preview.png'"
      ]
    },
    {
      "cell_type": "code",
      "execution_count": 3,
      "id": "2c39e5cd-26a9-4b52-ad64-3571bc70846e",
      "metadata": {
        "id": "2c39e5cd-26a9-4b52-ad64-3571bc70846e",
        "outputId": "eaa3e248-b680-406c-b047-53ccf92ed54c",
        "colab": {
          "base_uri": "https://localhost:8080/"
        }
      },
      "outputs": [
        {
          "output_type": "execute_result",
          "data": {
            "text/plain": [
              "(116, 108, 3)"
            ]
          },
          "metadata": {},
          "execution_count": 3
        }
      ],
      "source": [
        "src = cv2.imread(filename, cv2.IMREAD_COLOR)\n",
        "\n",
        "src.shape"
      ]
    },
    {
      "cell_type": "code",
      "execution_count": null,
      "id": "beecd68d-d806-4a40-b5f4-462336be75e9",
      "metadata": {
        "id": "beecd68d-d806-4a40-b5f4-462336be75e9"
      },
      "outputs": [],
      "source": [
        "# src = src[450:2300, 450:2300]"
      ]
    },
    {
      "cell_type": "code",
      "execution_count": 7,
      "id": "e89a5155-db45-4870-8604-d0bf9d8aa4ee",
      "metadata": {
        "id": "e89a5155-db45-4870-8604-d0bf9d8aa4ee",
        "outputId": "e6875d28-a4d9-45e0-90c6-348240e6ffd5",
        "colab": {
          "base_uri": "https://localhost:8080/",
          "height": 402
        }
      },
      "outputs": [
        {
          "output_type": "stream",
          "name": "stdout",
          "text": [
            "threshold: 53.0\n"
          ]
        },
        {
          "output_type": "display_data",
          "data": {
            "text/plain": [
              "<PIL.Image.Image image mode=L size=108x116>"
            ],
            "image/png": "[encoded data removed]"
          },
          "metadata": {}
        },
        {
          "output_type": "display_data",
          "data": {
            "text/plain": [
              "<PIL.Image.Image image mode=RGB size=108x116>"
            ],
            "image/png": "[encoded data removed]"
          },
          "metadata": {}
        },
        {
          "output_type": "display_data",
          "data": {
            "text/plain": [
              "<PIL.Image.Image image mode=RGB size=108x116>"
            ],
            "image/png": "[encoded data removed]"
          },
          "metadata": {}
        },
        {
          "output_type": "execute_result",
          "data": {
            "text/plain": [
              "True"
            ]
          },
          "metadata": {},
          "execution_count": 7
        }
      ],
      "source": [
        "if src is None:\n",
        "    print('Image load failed!')\n",
        "    sys.exit()\n",
        "\n",
        "# src = cv2.resize(src, (0, 0), fx=0.5, fy=0.5)\n",
        "src_gray = cv2.cvtColor(src, cv2.COLOR_BGR2GRAY)\n",
        "\n",
        "h, w = src.shape[:2]\n",
        "dst1 = np.zeros((h, w, 3), np.uint8)\n",
        "dst2 = np.zeros((h, w, 3), np.uint8)\n",
        "\n",
        "th, dst = cv2.threshold(src_gray, 0, 255, cv2.THRESH_BINARY | cv2.THRESH_OTSU)\n",
        "print('threshold:', th)\n",
        "\n",
        "\n",
        "contours1, _ = cv2.findContours(dst, cv2.RETR_EXTERNAL, cv2.CHAIN_APPROX_NONE)\n",
        "contours2, _ = cv2.findContours(dst, cv2.RETR_LIST, cv2.CHAIN_APPROX_NONE)\n",
        "\n",
        "for i in range(len(contours1)):\n",
        "#    c = (random.randint(0, 255), random.randint(0, 255), random.randint(0, 255))\n",
        "    cv2.drawContours(dst1, contours1, i, (0,255,255), 1)\n",
        "\n",
        "for i in range(len(contours2)):\n",
        "#    c = (random.randint(0, 255), random.randint(0, 255), random.randint(0, 255))\n",
        "    cv2.drawContours(dst2, contours2, i, (255,255,255), 1)\n",
        "\n",
        "len(contours1)\n",
        "len(contours2)\n",
        "\n",
        "# cv2.imshow('src', src)\n",
        "# cv2.imshow('src_gray', src_gray)\n",
        "cv2_imshow(dst)\n",
        "cv2_imshow(dst1)\n",
        "cv2_imshow(dst2)\n",
        "# cv2.waitKey()\n",
        "\n",
        "cv2.imwrite('0-1.jpg', src)\n",
        "cv2.imwrite('1-1.jpg', src_gray)\n",
        "cv2.imwrite('2-1.jpg', dst)\n",
        "cv2.imwrite('3-1.jpg', dst1)\n",
        "cv2.imwrite('4-1.jpg', dst2)\n",
        "\n",
        "# cv2.destroyAllWindows()"
      ]
    },
    {
      "cell_type": "code",
      "execution_count": 8,
      "id": "e813baea-0828-49cc-aa57-da2a4dc5c837",
      "metadata": {
        "id": "e813baea-0828-49cc-aa57-da2a4dc5c837",
        "outputId": "ad7f396b-1551-489e-d412-3d3367e20551",
        "colab": {
          "base_uri": "https://localhost:8080/"
        }
      },
      "outputs": [
        {
          "output_type": "execute_result",
          "data": {
            "text/plain": [
              "1"
            ]
          },
          "metadata": {},
          "execution_count": 8
        }
      ],
      "source": [
        "len(contours1)"
      ]
    },
    {
      "cell_type": "code",
      "execution_count": 9,
      "id": "90a53427-7589-414f-a0a6-32f77abbc762",
      "metadata": {
        "id": "90a53427-7589-414f-a0a6-32f77abbc762",
        "outputId": "d9e8dde7-a52d-4c76-e912-50ece6d76601",
        "colab": {
          "base_uri": "https://localhost:8080/"
        }
      },
      "outputs": [
        {
          "output_type": "execute_result",
          "data": {
            "text/plain": [
              "26"
            ]
          },
          "metadata": {},
          "execution_count": 9
        }
      ],
      "source": [
        "len(contours2)"
      ]
    },
    {
      "cell_type": "code",
      "execution_count": null,
      "id": "1f88ee47-34ec-4bd8-a3d1-54dcedca25ec",
      "metadata": {
        "id": "1f88ee47-34ec-4bd8-a3d1-54dcedca25ec"
      },
      "outputs": [],
      "source": []
    }
  ],
  "metadata": {
    "kernelspec": {
      "display_name": "Python 3 (ipykernel)",
      "language": "python",
      "name": "python3"
    },
    "language_info": {
      "codemirror_mode": {
        "name": "ipython",
        "version": 3
      },
      "file_extension": ".py",
      "mimetype": "text/x-python",
      "name": "python",
      "nbconvert_exporter": "python",
      "pygments_lexer": "ipython3",
      "version": "3.9.12"
    },
    "colab": {
      "provenance": [],
      "include_colab_link": true
    }
  },
  "nbformat": 4,
  "nbformat_minor": 5
}