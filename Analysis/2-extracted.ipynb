{
 "cells": [
  {
   "cell_type": "code",
   "execution_count": 2,
   "id": "7cd3d9f6-7ed4-4b72-9c6a-ff0ed7ff6580",
   "metadata": {},
   "outputs": [],
   "source": [
    "import cv2\n",
    "import numpy as np\n",
    "import os\n",
    "import glob\n",
    "\n",
    "# 폴더와 파일 패턴 정의\n",
    "input_folder = \".\\\\frames\"\n",
    "output_folder = \".\\\\extraced-sampled\"\n",
    "input_pattern = os.path.join(input_folder, \"sampled_frame_*.png\")\n",
    "\n",
    "# 추출할 대상 영역의 좌표 정의\n",
    "src_size = (2071, 2160)\n",
    "pts_src = np.array([(0, 0), (src_size[0] - 1, 0), (src_size[0] - 1, src_size[1] - 1), (0, src_size[1] - 1)], dtype=float)\n",
    "pts_dst = np.array([(2071, 1103), (1777, 1277), (1937, 1577), (2233, 1399)], dtype=float)\n",
    "\n",
    "# 출력 폴더 생성 (이미 존재하는 경우 생략)\n",
    "if not os.path.exists(output_folder):\n",
    "    os.makedirs(output_folder)\n",
    "\n",
    "# Homography 행렬 계산\n",
    "h, status = cv2.findHomography(pts_dst, pts_src)\n",
    "\n",
    "# 입력 폴더 내의 모든 PNG 파일 처리\n",
    "for input_filename in glob.glob(input_pattern):\n",
    "    # 이미지 읽기\n",
    "    img = cv2.imread(input_filename)\n",
    "\n",
    "    # 이미지 변환\n",
    "    img_warped = cv2.warpPerspective(img, h, src_size)\n",
    "\n",
    "    # 출력 파일명 생성 및 이미지 저장\n",
    "    base_name = os.path.basename(input_filename)\n",
    "    frame_num = base_name.split('_')[-1].split('.')[0]\n",
    "    output_filename = os.path.join(output_folder, f\"extracted_frame_{frame_num}.png\")\n",
    "    cv2.imwrite(output_filename, img_warped)\n"
   ]
  },
  {
   "cell_type": "code",
   "execution_count": 3,
   "id": "bbf12395-6640-44b8-8d20-5a2497a4941a",
   "metadata": {},
   "outputs": [],
   "source": [
    "!"
   ]
  },
  {
   "cell_type": "code",
   "execution_count": 2,
   "id": "778b805d-16d5-4b38-9767-cacd474b1f30",
   "metadata": {},
   "outputs": [],
   "source": [
    "import cv2\n",
    "import os\n",
    "import glob\n",
    "\n",
    "# 폴더와 파일 패턴 정의\n",
    "input_folder = \".\\\\extracted-sampled\"\n",
    "input_pattern = os.path.join(input_folder, \"extracted_frame_*.png\")\n",
    "output_video_path = os.path.join(input_folder, \"extracted_video.mp4\")\n",
    "\n",
    "# 첫 번째 이미지를 읽어서 동영상의 크기를 설정\n",
    "first_image_path = sorted(glob.glob(input_pattern))[0]\n",
    "first_image = cv2.imread(first_image_path)\n",
    "height, width, layers = first_image.shape\n",
    "size = (width, height)\n",
    "\n",
    "# 동영상 쓰기 객체 생성\n",
    "fps = 1  # 1 frame per second\n",
    "fourcc = cv2.VideoWriter_fourcc(*'mp4v')\n",
    "out = cv2.VideoWriter(output_video_path, fourcc, fps, size)\n",
    "\n",
    "# `.\\\\extracted` 폴더 내의 모든 이미지를 순서대로 동영상에 추가\n",
    "for input_filename in sorted(glob.glob(input_pattern)):\n",
    "    img = cv2.imread(input_filename)\n",
    "    out.write(img)\n",
    "\n",
    "out.release()\n"
   ]
  },
  {
   "cell_type": "code",
   "execution_count": null,
   "id": "59f5dd49-07b5-47fc-a49a-4233f970887e",
   "metadata": {},
   "outputs": [],
   "source": []
  },
  {
   "cell_type": "code",
   "execution_count": 4,
   "id": "e5957522-b13f-4dcd-895c-69725f294d05",
   "metadata": {},
   "outputs": [],
   "source": [
    "import cv2\n",
    "import os\n",
    "import glob\n",
    "\n",
    "# 폴더와 파일 패턴 정의\n",
    "input_folder = \".\\\\extracted-sampled\"\n",
    "input_pattern = os.path.join(input_folder, \"extracted_frame_*.png\")\n",
    "output_video_path = \".\\\\extracted_video01.mp4\"\n",
    "\n",
    "# 첫 번째 이미지를 읽어서 동영상의 크기를 설정\n",
    "img_files = sorted(glob.glob(input_pattern), key=lambda x: int(x.split('_')[-1].split('.')[0]))\n",
    "first_image = cv2.imread(img_files[0])\n",
    "height, width, layers = first_image.shape\n",
    "size = (width, height)\n",
    "\n",
    "# 동영상 쓰기 객체 생성\n",
    "fps = 1  # 1 frame per second\n",
    "fourcc = cv2.VideoWriter_fourcc(*'mp4v')\n",
    "out = cv2.VideoWriter(output_video_path, fourcc, fps, size)\n",
    "\n",
    "# 이미지 시퀀스를 동영상에 추가\n",
    "for img_file in img_files:\n",
    "    img = cv2.imread(img_file)\n",
    "    out.write(img)\n",
    "\n",
    "out.release()\n"
   ]
  },
  {
   "cell_type": "code",
   "execution_count": null,
   "id": "67261eaa-d7b4-40ed-84af-83c3ab093e14",
   "metadata": {},
   "outputs": [],
   "source": []
  }
 ],
 "metadata": {
  "kernelspec": {
   "display_name": "Python 3 (ipykernel)",
   "language": "python",
   "name": "python3"
  },
  "language_info": {
   "codemirror_mode": {
    "name": "ipython",
    "version": 3
   },
   "file_extension": ".py",
   "mimetype": "text/x-python",
   "name": "python",
   "nbconvert_exporter": "python",
   "pygments_lexer": "ipython3",
   "version": "3.10.9"
  }
 },
 "nbformat": 4,
 "nbformat_minor": 5
}
