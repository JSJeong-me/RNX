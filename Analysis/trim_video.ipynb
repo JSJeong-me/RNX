{
 "cells": [
  {
   "cell_type": "code",
   "execution_count": 1,
   "id": "4c309ce3-79c3-4f6e-b2ea-3a547c2933a1",
   "metadata": {
    "tags": []
   },
   "outputs": [
    {
     "name": "stdout",
     "output_type": "stream",
     "text": [
      "Collecting moviepy\n",
      "  Downloading moviepy-1.0.3.tar.gz (388 kB)\n",
      "     -------------------------------------- 388.3/388.3 kB 8.0 MB/s eta 0:00:00\n",
      "  Preparing metadata (setup.py): started\n",
      "  Preparing metadata (setup.py): finished with status 'done'\n",
      "Collecting decorator<5.0,>=4.0.2\n",
      "  Downloading decorator-4.4.2-py2.py3-none-any.whl (9.2 kB)\n",
      "Requirement already satisfied: tqdm<5.0,>=4.11.2 in c:\\users\\oakyo\\anaconda3\\lib\\site-packages (from moviepy) (4.64.1)\n",
      "Requirement already satisfied: requests<3.0,>=2.8.1 in c:\\users\\oakyo\\anaconda3\\lib\\site-packages (from moviepy) (2.28.1)\n",
      "Collecting proglog<=1.0.0\n",
      "  Downloading proglog-0.1.10-py3-none-any.whl (6.1 kB)\n",
      "Requirement already satisfied: numpy>=1.17.3 in c:\\users\\oakyo\\anaconda3\\lib\\site-packages (from moviepy) (1.23.5)\n",
      "Requirement already satisfied: imageio<3.0,>=2.5 in c:\\users\\oakyo\\anaconda3\\lib\\site-packages (from moviepy) (2.26.0)\n",
      "Collecting imageio_ffmpeg>=0.2.0\n",
      "  Downloading imageio_ffmpeg-0.4.9-py3-none-win_amd64.whl (22.6 MB)\n",
      "     --------------------------------------- 22.6/22.6 MB 31.2 MB/s eta 0:00:00\n",
      "Requirement already satisfied: pillow>=8.3.2 in c:\\users\\oakyo\\anaconda3\\lib\\site-packages (from imageio<3.0,>=2.5->moviepy) (9.4.0)\n",
      "Requirement already satisfied: setuptools in c:\\users\\oakyo\\anaconda3\\lib\\site-packages (from imageio_ffmpeg>=0.2.0->moviepy) (65.6.3)\n",
      "Requirement already satisfied: charset-normalizer<3,>=2 in c:\\users\\oakyo\\anaconda3\\lib\\site-packages (from requests<3.0,>=2.8.1->moviepy) (2.0.4)\n",
      "Requirement already satisfied: urllib3<1.27,>=1.21.1 in c:\\users\\oakyo\\anaconda3\\lib\\site-packages (from requests<3.0,>=2.8.1->moviepy) (1.26.14)\n",
      "Requirement already satisfied: certifi>=2017.4.17 in c:\\users\\oakyo\\anaconda3\\lib\\site-packages (from requests<3.0,>=2.8.1->moviepy) (2022.12.7)\n",
      "Requirement already satisfied: idna<4,>=2.5 in c:\\users\\oakyo\\anaconda3\\lib\\site-packages (from requests<3.0,>=2.8.1->moviepy) (3.4)\n",
      "Requirement already satisfied: colorama in c:\\users\\oakyo\\anaconda3\\lib\\site-packages (from tqdm<5.0,>=4.11.2->moviepy) (0.4.6)\n",
      "Building wheels for collected packages: moviepy\n",
      "  Building wheel for moviepy (setup.py): started\n",
      "  Building wheel for moviepy (setup.py): finished with status 'done'\n",
      "  Created wheel for moviepy: filename=moviepy-1.0.3-py3-none-any.whl size=110773 sha256=93e52b2c4d67feb02f6db5ad1d3f559931b49c32d46a49a37ad1035d255e1d70\n",
      "  Stored in directory: c:\\users\\oakyo\\appdata\\local\\pip\\cache\\wheels\\05\\c3\\60\\ff37aa492e097b78c495e049d4ec5dbd5be98bd9b36eb1f0b1\n",
      "Successfully built moviepy\n",
      "Installing collected packages: imageio_ffmpeg, decorator, proglog, moviepy\n",
      "  Attempting uninstall: decorator\n",
      "    Found existing installation: decorator 5.1.1\n",
      "    Uninstalling decorator-5.1.1:\n",
      "      Successfully uninstalled decorator-5.1.1\n",
      "Successfully installed decorator-4.4.2 imageio_ffmpeg-0.4.9 moviepy-1.0.3 proglog-0.1.10\n"
     ]
    }
   ],
   "source": [
    "!pip install moviepy"
   ]
  },
  {
   "cell_type": "code",
   "execution_count": 3,
   "id": "e467d1ab-b596-48f5-9814-fc14a0af10b4",
   "metadata": {
    "tags": []
   },
   "outputs": [
    {
     "data": {
      "text/plain": [
       "'3.11.5 | packaged by Anaconda, Inc. | (main, Sep 11 2023, 13:26:23) [MSC v.1916 64 bit (AMD64)]'"
      ]
     },
     "execution_count": 3,
     "metadata": {},
     "output_type": "execute_result"
    }
   ],
   "source": [
    "import sys\n",
    "import platform\n",
    "\n",
    "sys.version"
   ]
  },
  {
   "cell_type": "code",
   "execution_count": 4,
   "id": "62f63bab-f024-4655-b1fd-a5054535f685",
   "metadata": {
    "tags": []
   },
   "outputs": [
    {
     "data": {
      "text/plain": [
       "'1.0.8'"
      ]
     },
     "execution_count": 4,
     "metadata": {},
     "output_type": "execute_result"
    }
   ],
   "source": [
    "platform.__version__"
   ]
  },
  {
   "cell_type": "code",
   "execution_count": 1,
   "id": "03563750-53fd-430c-8222-331d695cf48f",
   "metadata": {
    "tags": []
   },
   "outputs": [],
   "source": [
    "from moviepy.editor import VideoFileClip\n",
    "\n",
    "def trim_video(input_file, start_time, end_time, output_file):\n",
    "    with VideoFileClip(input_file) as clip:\n",
    "        new_clip = clip.subclip(start_time, end_time)\n",
    "        new_clip.write_videofile(output_file, codec=\"libx264\")\n",
    "\n",
    "# 시간 형식 \"HH:MM:SS\"을 초로 변환하는 함수\n",
    "def time_to_seconds(time_str):\n",
    "    h, m, s = map(int, time_str.split(':'))\n",
    "    return h * 3600 + m * 60 + s\n",
    "\n",
    "input_file = \"E:\\RNX\\C0002.MP4\"\n",
    "output_file = \"trimmed_video.mp4\"\n",
    "start_time_str = \"00:35:00\"\n",
    "end_time_str = \"00:55:00\"\n",
    "\n",
    "start_time = time_to_seconds(start_time_str)\n",
    "end_time = time_to_seconds(end_time_str)\n"
   ]
  },
  {
   "cell_type": "code",
   "execution_count": 2,
   "id": "48c19078-211d-4852-be82-5463f3d8e6d5",
   "metadata": {
    "tags": []
   },
   "outputs": [
    {
     "name": "stdout",
     "output_type": "stream",
     "text": [
      "Moviepy - Building video trimmed_video.mp4.\n",
      "MoviePy - Writing audio in trimmed_videoTEMP_MPY_wvf_snd.mp3\n"
     ]
    },
    {
     "name": "stderr",
     "output_type": "stream",
     "text": [
      "                                                                        \r"
     ]
    },
    {
     "name": "stdout",
     "output_type": "stream",
     "text": [
      "MoviePy - Done.\n",
      "Moviepy - Writing video trimmed_video.mp4\n",
      "\n"
     ]
    },
    {
     "name": "stderr",
     "output_type": "stream",
     "text": [
      "                                                                    \r"
     ]
    },
    {
     "name": "stdout",
     "output_type": "stream",
     "text": [
      "Moviepy - Done !\n",
      "Moviepy - video ready trimmed_video.mp4\n"
     ]
    }
   ],
   "source": [
    "trim_video(input_file, start_time, end_time, output_file)"
   ]
  },
  {
   "cell_type": "code",
   "execution_count": null,
   "id": "4c376750-3748-4db7-86ae-b5490e2ab636",
   "metadata": {},
   "outputs": [],
   "source": []
  },
  {
   "cell_type": "code",
   "execution_count": 4,
   "id": "d1d0363b-392e-4ac4-890d-81a118f0fefe",
   "metadata": {
    "tags": []
   },
   "outputs": [
    {
     "name": "stdout",
     "output_type": "stream",
     "text": [
      "Collecting opencv-python==4.7.0.72\n",
      "  Downloading opencv_python-4.7.0.72-cp37-abi3-win_amd64.whl (38.2 MB)\n",
      "     ---------------------------------------- 0.0/38.2 MB ? eta -:--:--\n",
      "     --------------------------------------- 0.0/38.2 MB 660.6 kB/s eta 0:00:58\n",
      "     --------------------------------------- 0.0/38.2 MB 393.8 kB/s eta 0:01:37\n",
      "     --------------------------------------- 0.1/38.2 MB 550.5 kB/s eta 0:01:10\n",
      "     ---------------------------------------- 0.3/38.2 MB 1.8 MB/s eta 0:00:22\n",
      "      --------------------------------------- 0.6/38.2 MB 2.9 MB/s eta 0:00:13\n",
      "     - -------------------------------------- 1.2/38.2 MB 4.3 MB/s eta 0:00:09\n",
      "     - -------------------------------------- 1.8/38.2 MB 5.9 MB/s eta 0:00:07\n",
      "     --- ------------------------------------ 2.9/38.2 MB 7.8 MB/s eta 0:00:05\n",
      "     --- ------------------------------------ 3.4/38.2 MB 8.4 MB/s eta 0:00:05\n",
      "     ---- ----------------------------------- 4.2/38.2 MB 9.3 MB/s eta 0:00:04\n",
      "     ----- ---------------------------------- 4.9/38.2 MB 9.4 MB/s eta 0:00:04\n",
      "     ----- ---------------------------------- 5.7/38.2 MB 10.1 MB/s eta 0:00:04\n",
      "     ------ --------------------------------- 6.4/38.2 MB 10.8 MB/s eta 0:00:03\n",
      "     ------- -------------------------------- 7.0/38.2 MB 10.7 MB/s eta 0:00:03\n",
      "     ------- -------------------------------- 7.6/38.2 MB 10.8 MB/s eta 0:00:03\n",
      "     --------- ------------------------------ 8.7/38.2 MB 11.6 MB/s eta 0:00:03\n",
      "     --------- ------------------------------ 9.3/38.2 MB 11.6 MB/s eta 0:00:03\n",
      "     ---------- ---------------------------- 10.2/38.2 MB 11.8 MB/s eta 0:00:03\n",
      "     ----------- --------------------------- 11.0/38.2 MB 15.2 MB/s eta 0:00:02\n",
      "     ------------ -------------------------- 12.0/38.2 MB 16.0 MB/s eta 0:00:02\n",
      "     ------------ -------------------------- 12.4/38.2 MB 15.6 MB/s eta 0:00:02\n",
      "     ------------- ------------------------- 13.4/38.2 MB 16.0 MB/s eta 0:00:02\n",
      "     -------------- ------------------------ 13.9/38.2 MB 15.6 MB/s eta 0:00:02\n",
      "     -------------- ------------------------ 14.5/38.2 MB 16.0 MB/s eta 0:00:02\n",
      "     --------------- ----------------------- 15.1/38.2 MB 15.6 MB/s eta 0:00:02\n",
      "     --------------- ----------------------- 15.6/38.2 MB 15.6 MB/s eta 0:00:02\n",
      "     ---------------- ---------------------- 16.5/38.2 MB 15.2 MB/s eta 0:00:02\n",
      "     ----------------- --------------------- 17.2/38.2 MB 14.9 MB/s eta 0:00:02\n",
      "     ------------------ -------------------- 18.1/38.2 MB 15.6 MB/s eta 0:00:02\n",
      "     ------------------- ------------------- 18.8/38.2 MB 15.2 MB/s eta 0:00:02\n",
      "     ------------------- ------------------- 19.5/38.2 MB 16.0 MB/s eta 0:00:02\n",
      "     -------------------- ------------------ 20.1/38.2 MB 14.9 MB/s eta 0:00:02\n",
      "     --------------------- ----------------- 20.8/38.2 MB 14.9 MB/s eta 0:00:02\n",
      "     --------------------- ----------------- 21.5/38.2 MB 14.9 MB/s eta 0:00:02\n",
      "     ---------------------- ---------------- 22.2/38.2 MB 14.2 MB/s eta 0:00:02\n",
      "     ----------------------- --------------- 22.6/38.2 MB 14.9 MB/s eta 0:00:02\n",
      "     ----------------------- --------------- 23.2/38.2 MB 14.2 MB/s eta 0:00:02\n",
      "     ------------------------ -------------- 24.0/38.2 MB 13.9 MB/s eta 0:00:02\n",
      "     ------------------------ -------------- 24.3/38.2 MB 13.9 MB/s eta 0:00:01\n",
      "     ------------------------- ------------- 25.2/38.2 MB 14.2 MB/s eta 0:00:01\n",
      "     -------------------------- ------------ 25.9/38.2 MB 14.9 MB/s eta 0:00:01\n",
      "     --------------------------- ----------- 26.5/38.2 MB 14.2 MB/s eta 0:00:01\n",
      "     --------------------------- ----------- 27.1/38.2 MB 14.2 MB/s eta 0:00:01\n",
      "     ---------------------------- ---------- 27.7/38.2 MB 13.9 MB/s eta 0:00:01\n",
      "     ---------------------------- ---------- 28.1/38.2 MB 13.6 MB/s eta 0:00:01\n",
      "     ----------------------------- --------- 28.7/38.2 MB 13.4 MB/s eta 0:00:01\n",
      "     ----------------------------- --------- 29.0/38.2 MB 12.8 MB/s eta 0:00:01\n",
      "     ------------------------------ -------- 29.7/38.2 MB 12.6 MB/s eta 0:00:01\n",
      "     ------------------------------ -------- 30.0/38.2 MB 12.9 MB/s eta 0:00:01\n",
      "     ------------------------------- ------- 30.8/38.2 MB 12.8 MB/s eta 0:00:01\n",
      "     ------------------------------- ------- 31.3/38.2 MB 12.4 MB/s eta 0:00:01\n",
      "     -------------------------------- ------ 32.1/38.2 MB 12.6 MB/s eta 0:00:01\n",
      "     --------------------------------- ----- 32.6/38.2 MB 12.6 MB/s eta 0:00:01\n",
      "     --------------------------------- ----- 33.2/38.2 MB 12.1 MB/s eta 0:00:01\n",
      "     ---------------------------------- ---- 33.5/38.2 MB 12.4 MB/s eta 0:00:01\n",
      "     ---------------------------------- ---- 34.0/38.2 MB 11.7 MB/s eta 0:00:01\n",
      "     ----------------------------------- --- 34.4/38.2 MB 11.5 MB/s eta 0:00:01\n",
      "     ----------------------------------- --- 34.7/38.2 MB 11.5 MB/s eta 0:00:01\n",
      "     ----------------------------------- --- 35.2/38.2 MB 10.9 MB/s eta 0:00:01\n",
      "     ------------------------------------ -- 35.7/38.2 MB 10.9 MB/s eta 0:00:01\n",
      "     ------------------------------------ -- 36.0/38.2 MB 10.9 MB/s eta 0:00:01\n",
      "     ------------------------------------- - 36.6/38.2 MB 10.6 MB/s eta 0:00:01\n",
      "     ------------------------------------- - 36.9/38.2 MB 10.6 MB/s eta 0:00:01\n",
      "     --------------------------------------  37.3/38.2 MB 10.6 MB/s eta 0:00:01\n",
      "     --------------------------------------  37.7/38.2 MB 10.1 MB/s eta 0:00:01\n",
      "     ---------------------------------------  37.9/38.2 MB 9.9 MB/s eta 0:00:01\n",
      "     ---------------------------------------  37.9/38.2 MB 9.6 MB/s eta 0:00:01\n",
      "     ---------------------------------------  38.1/38.2 MB 9.1 MB/s eta 0:00:01\n",
      "     ---------------------------------------  38.2/38.2 MB 8.8 MB/s eta 0:00:01\n",
      "     ---------------------------------------  38.2/38.2 MB 8.8 MB/s eta 0:00:01\n",
      "     ---------------------------------------  38.2/38.2 MB 8.8 MB/s eta 0:00:01\n",
      "     ---------------------------------------- 38.2/38.2 MB 7.9 MB/s eta 0:00:00\n",
      "Requirement already satisfied: numpy>=1.21.2 in c:\\users\\joonsoojeong\\anaconda3\\lib\\site-packages (from opencv-python==4.7.0.72) (1.24.3)\n",
      "Installing collected packages: opencv-python\n",
      "Successfully installed opencv-python-4.7.0.72\n"
     ]
    }
   ],
   "source": [
    "!pip install opencv-python==4.7.0.72"
   ]
  },
  {
   "cell_type": "code",
   "execution_count": 5,
   "id": "ed702fcd-4063-4fee-a19c-c8f5fc422d6c",
   "metadata": {
    "tags": []
   },
   "outputs": [],
   "source": [
    "import cv2\n",
    "import os\n",
    "\n",
    "# 동영상 파일 경로\n",
    "video_path = \"C:\\\\Users\\\\JoonSooJeong\\\\Documents\\\\RNX\\\\trimmed_video.mp4\"\n",
    "# 출력 프레임의 저장 경로\n",
    "output_folder = \".\\\\frames\\\\\"\n",
    "\n",
    "# 경로가 존재하지 않으면 생성\n",
    "if not os.path.exists(output_folder):\n",
    "    os.makedirs(output_folder)\n",
    "\n",
    "# 동영상 캡쳐 객체 생성\n",
    "cap = cv2.VideoCapture(video_path)\n",
    "fps = int(cap.get(cv2.CAP_PROP_FPS))\n",
    "\n",
    "frame_count = 0\n",
    "while True:\n",
    "    ret, frame = cap.read()\n",
    "    if not ret:\n",
    "        break\n",
    "\n",
    "    # 초당 1장씩 저장\n",
    "    if frame_count % fps == 0:\n",
    "        frame_filename = os.path.join(output_folder, f\"frame_{frame_count // fps}.png\")\n",
    "        cv2.imwrite(frame_filename, frame)\n",
    "\n",
    "    frame_count += 1\n",
    "\n",
    "cap.release()\n"
   ]
  },
  {
   "cell_type": "code",
   "execution_count": 1,
   "id": "fea3cbe8-9eab-4b2a-a17f-237750c90511",
   "metadata": {
    "tags": []
   },
   "outputs": [],
   "source": [
    "import cv2\n",
    "import os\n",
    "\n",
    "# 이미지 파일 경로 패턴\n",
    "image_pattern = \"C:\\\\Users\\\\JoonSooJeong\\\\Documents\\\\RNX\\\\frames\\\\frame_{}.png\"\n",
    "# 출력 동영상 파일 경로\n",
    "output_video_path = \"C:\\\\Users\\\\JoonSooJeong\\\\Documents\\\\RNX\\\\output_video.mp4\"\n",
    "\n",
    "# 첫 번째 이미지를 읽어서 동영상의 크기와 FPS를 설정\n",
    "first_image = cv2.imread(image_pattern.format(0))\n",
    "height, width, layers = first_image.shape\n",
    "size = (width, height)\n",
    "fps = 30  # 이미지 시퀀스가 초당 1장씩 샘플링되었으므로\n",
    "\n",
    "# MP4 동영상 쓰기 객체 생성\n",
    "fourcc = cv2.VideoWriter_fourcc(*'mp4v')\n",
    "out = cv2.VideoWriter(output_video_path, fourcc, fps, size)\n",
    "\n",
    "# 이미지 시퀀스를 동영상에 추가\n",
    "for i in range(1251):  # frame_0.png부터 frame_1250.png까지\n",
    "    img_path = image_pattern.format(i)\n",
    "    if os.path.exists(img_path):\n",
    "        img = cv2.imread(img_path)\n",
    "        out.write(img)\n",
    "\n",
    "out.release()\n"
   ]
  },
  {
   "cell_type": "code",
   "execution_count": null,
   "id": "85c8187b-1409-4474-90c0-8e55d30a8950",
   "metadata": {},
   "outputs": [],
   "source": []
  },
  {
   "cell_type": "code",
   "execution_count": 2,
   "id": "acc6932a-4433-45d2-983f-bec149cfa53f",
   "metadata": {
    "tags": []
   },
   "outputs": [],
   "source": [
    "import cv2\n",
    "import os\n",
    "\n",
    "# 동영상 파일 경로\n",
    "video_path = \"C:\\\\Users\\\\JoonSooJeong\\\\Documents\\\\RNX\\\\output_video.mp4\"\n",
    "# 출력 프레임의 저장 경로\n",
    "output_folder = \"C:\\\\Users\\\\JoonSooJeong\\\\Documents\\\\RNX\\\\frames\"\n",
    "\n",
    "# 동영상 캡쳐 객체 생성\n",
    "cap = cv2.VideoCapture(video_path)\n",
    "fps = int(cap.get(cv2.CAP_PROP_FPS))\n",
    "\n",
    "frame_count = 0\n",
    "sampled_frame_count = 0\n",
    "while True:\n",
    "    ret, frame = cap.read()\n",
    "    if not ret:\n",
    "        break\n",
    "\n",
    "    # 3 frame/sec로 샘플링\n",
    "    if frame_count % (fps // 3) == 0:\n",
    "        frame_filename = os.path.join(output_folder, f\"sampled_frame_{sampled_frame_count}.png\")\n",
    "        cv2.imwrite(frame_filename, frame)\n",
    "        sampled_frame_count += 1\n",
    "\n",
    "    frame_count += 1\n",
    "\n",
    "cap.release()\n"
   ]
  },
  {
   "cell_type": "code",
   "execution_count": null,
   "id": "c898f4ab-2ecd-48c0-8621-f28f10cd8360",
   "metadata": {},
   "outputs": [],
   "source": []
  },
  {
   "cell_type": "code",
   "execution_count": 1,
   "id": "95889120-344a-4e28-ba92-5788fcec7482",
   "metadata": {
    "tags": []
   },
   "outputs": [],
   "source": [
    "import cv2\n",
    "import os\n",
    "\n",
    "# 이미지 파일 경로 패턴\n",
    "image_pattern = \"C:\\\\Users\\\\JoonSooJeong\\\\Documents\\\\RNX\\\\frames\\\\sampled_frame_{}.png\"\n",
    "# 출력 동영상 파일 경로\n",
    "output_video_path = \"C:\\\\Users\\\\JoonSooJeong\\\\Documents\\\\RNX\\\\output.mp4\"\n",
    "\n",
    "# 첫 번째 이미지를 읽어서 동영상의 크기를 설정\n",
    "first_image = cv2.imread(image_pattern.format(3))\n",
    "height, width, layers = first_image.shape\n",
    "size = (width, height)\n",
    "fps = 1  # 1 frame per second\n",
    "\n",
    "# MP4 동영상 쓰기 객체 생성\n",
    "fourcc = cv2.VideoWriter_fourcc(*'mp4v')\n",
    "out = cv2.VideoWriter(output_video_path, fourcc, fps, size)\n",
    "\n",
    "# 이미지 시퀀스를 동영상에 추가\n",
    "for i in range(3, 125):  # sampled_frame_3.png부터 sampled_frame_124.png까지\n",
    "    img_path = image_pattern.format(i)\n",
    "    if os.path.exists(img_path):\n",
    "        img = cv2.imread(img_path)\n",
    "        out.write(img)\n",
    "\n",
    "out.release()\n"
   ]
  },
  {
   "cell_type": "code",
   "execution_count": null,
   "id": "e0157fab-298c-4fde-a292-4d94fcbe7bc2",
   "metadata": {},
   "outputs": [],
   "source": []
  }
 ],
 "metadata": {
  "kernelspec": {
   "display_name": "Python 3 (ipykernel)",
   "language": "python",
   "name": "python3"
  },
  "language_info": {
   "codemirror_mode": {
    "name": "ipython",
    "version": 3
   },
   "file_extension": ".py",
   "mimetype": "text/x-python",
   "name": "python",
   "nbconvert_exporter": "python",
   "pygments_lexer": "ipython3",
   "version": "3.10.9"
  }
 },
 "nbformat": 4,
 "nbformat_minor": 5
}
