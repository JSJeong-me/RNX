{
 "cells": [
  {
   "cell_type": "code",
   "execution_count": 1,
   "id": "1c539202-4032-49b9-8146-d617e677d244",
   "metadata": {},
   "outputs": [],
   "source": [
    "import cv2\n",
    "import os\n",
    "import glob\n",
    "\n",
    "# 폴더와 파일 패턴 정의\n",
    "input_folder = \".\\\\extracted-sampled\"\n",
    "output_folder = \".\\\\otsu-extracted\"\n",
    "input_pattern = os.path.join(input_folder, \"*.png\")\n",
    "\n",
    "# 출력 폴더 생성 (이미 존재하는 경우 생략)\n",
    "if not os.path.exists(output_folder):\n",
    "    os.makedirs(output_folder)\n",
    "\n",
    "# 입력 폴더 내의 모든 이미지 파일 처리\n",
    "img_files = sorted(glob.glob(input_pattern), key=lambda x: int(x.split('_')[-1].split('.')[0]))\n",
    "for img_file in img_files:\n",
    "    # 이미지 읽기\n",
    "    img = cv2.imread(img_file, cv2.IMREAD_GRAYSCALE)\n",
    "\n",
    "    # Otsu 알고리즘을 사용하여 이진화\n",
    "    _, img_otsu = cv2.threshold(img, 0, 255, cv2.THRESH_BINARY + cv2.THRESH_OTSU)\n",
    "\n",
    "    # 출력 파일명 생성 및 이미지 저장\n",
    "    base_name = os.path.basename(img_file)\n",
    "    frame_num = base_name.split('_')[-1].split('.')[0]\n",
    "    output_filename = os.path.join(output_folder, f\"otsu_{frame_num}.png\")\n",
    "    cv2.imwrite(output_filename, img_otsu)\n"
   ]
  },
  {
   "cell_type": "code",
   "execution_count": null,
   "id": "8c3d2cef-bd53-457f-8290-4e223f5236ae",
   "metadata": {},
   "outputs": [],
   "source": []
  },
  {
   "cell_type": "code",
   "execution_count": 2,
   "id": "e5d4cf58-2e20-436c-82d9-40a507eb505b",
   "metadata": {},
   "outputs": [],
   "source": [
    "import cv2\n",
    "import os\n",
    "import glob\n",
    "\n",
    "# 폴더와 파일 패턴 정의\n",
    "input_folder = \".\\\\otsu-extracted\"\n",
    "input_pattern = os.path.join(input_folder, \"otsu_*.png\")\n",
    "output_video_path = \".\\\\otsu.mp4\"\n",
    "\n",
    "# 첫 번째 이미지를 읽어서 동영상의 크기를 설정\n",
    "img_files = sorted(glob.glob(input_pattern), key=lambda x: int(x.split('_')[-1].split('.')[0]))\n",
    "first_image = cv2.imread(img_files[0])\n",
    "height, width, layers = first_image.shape\n",
    "size = (width, height)\n",
    "\n",
    "# 동영상 쓰기 객체 생성\n",
    "fps = 1  # 1 frame per second\n",
    "fourcc = cv2.VideoWriter_fourcc(*'mp4v')\n",
    "out = cv2.VideoWriter(output_video_path, fourcc, fps, size)\n",
    "\n",
    "# 이미지 시퀀스를 동영상에 추가\n",
    "for img_file in img_files:\n",
    "    img = cv2.imread(img_file)\n",
    "    out.write(img)\n",
    "\n",
    "out.release()\n"
   ]
  },
  {
   "cell_type": "code",
   "execution_count": null,
   "id": "0c770f01-a394-4d35-9309-6ff794a008ee",
   "metadata": {},
   "outputs": [],
   "source": []
  }
 ],
 "metadata": {
  "kernelspec": {
   "display_name": "Python 3 (ipykernel)",
   "language": "python",
   "name": "python3"
  },
  "language_info": {
   "codemirror_mode": {
    "name": "ipython",
    "version": 3
   },
   "file_extension": ".py",
   "mimetype": "text/x-python",
   "name": "python",
   "nbconvert_exporter": "python",
   "pygments_lexer": "ipython3",
   "version": "3.10.9"
  }
 },
 "nbformat": 4,
 "nbformat_minor": 5
}
