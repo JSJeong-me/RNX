{
  "nbformat": 4,
  "nbformat_minor": 0,
  "metadata": {
    "colab": {
      "provenance": [],
      "machine_shape": "hm",
      "gpuType": "V100",
      "authorship_tag": "ABX9TyOA3Av7vf6nIzy6KUnOwaNL",
      "include_colab_link": true
    },
    "kernelspec": {
      "name": "python3",
      "display_name": "Python 3"
    },
    "language_info": {
      "name": "python"
    },
    "accelerator": "GPU"
  },
  "cells": [
    {
      "cell_type": "markdown",
      "metadata": {
        "id": "view-in-github",
        "colab_type": "text"
      },
      "source": [
        "<a href=\"https://colab.research.google.com/github/JSJeong-me/RNX/blob/main/Analysis/Volume_rendering.ipynb\" target=\"_parent\"><img src=\"https://colab.research.google.com/assets/colab-badge.svg\" alt=\"Open In Colab\"/></a>"
      ]
    },
    {
      "cell_type": "code",
      "execution_count": 1,
      "metadata": {
        "id": "uZAPPjtetH6l"
      },
      "outputs": [],
      "source": [
        "!mkdir otsu-extracted"
      ]
    },
    {
      "cell_type": "code",
      "source": [
        "import os\n",
        "import numpy as np\n",
        "import matplotlib.pyplot as plt\n",
        "from mpl_toolkits.mplot3d import Axes3D\n",
        "from skimage import io\n",
        "\n",
        "def load_images_from_folder(folder):\n",
        "    images = []\n",
        "    for filename in sorted(os.listdir(folder)):\n",
        "        if filename.endswith(\".png\") or filename.endswith(\".jpg\"):\n",
        "            img = io.imread(os.path.join(folder, filename), as_gray=True)\n",
        "            if img is not None:\n",
        "                images.append(img)\n",
        "    return np.array(images)\n",
        "\n",
        "def plot_3d(images):\n",
        "    fig = plt.figure()\n",
        "    ax = fig.add_subplot(111, projection='3d')\n",
        "\n",
        "    # Define the voxel data\n",
        "    x, y, z = np.indices(images.shape)\n",
        "    voxels = images > 0.5\n",
        "\n",
        "    ax.voxels(voxels, facecolors='blue', edgecolor='k')\n",
        "    plt.show()\n",
        "\n",
        "\n",
        "if __name__ == \"__main__\":\n",
        "    folder = \"otsu-extracted\"\n",
        "    images = load_images_from_folder(folder)\n",
        "    plot_3d(images)"
      ],
      "metadata": {
        "id": "MvkbUYGWtddL"
      },
      "execution_count": null,
      "outputs": []
    }
  ]
}